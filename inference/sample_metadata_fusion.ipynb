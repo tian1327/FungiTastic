{
 "cells": [
  {
   "cell_type": "raw",
   "source": [],
   "metadata": {
    "collapsed": false
   },
   "id": "420f2b2c01ea568"
  },
  {
   "cell_type": "code",
   "outputs": [
    {
     "name": "stdout",
     "output_type": "stream",
     "text": [
      "Device: mps\n"
     ]
    }
   ],
   "source": [
    "import os\n",
    "import timm\n",
    "import torch\n",
    "\n",
    "import numpy as np\n",
    "import pandas as pd\n",
    "\n",
    "from torch.utils.data import DataLoader\n",
    "from sklearn.metrics import f1_score, accuracy_score, top_k_accuracy_score\n",
    "# from fgvc.utils.utils import set_random_seed\n",
    "\n",
    "SEED = 777\n",
    "# set_random_seed(SEED)\n",
    "if torch.backends.mps.is_available():\n",
    "    device = torch.device(\"mps\")\n",
    "elif torch.cuda.is_available():\n",
    "    device = torch.device(\"cuda\")\n",
    "else:\n",
    "    device = torch.device(\"cpu\")\n",
    "print(f'Device: {device}')"
   ],
   "metadata": {
    "collapsed": false,
    "ExecuteTime": {
     "end_time": "2024-11-11T21:25:02.311784Z",
     "start_time": "2024-11-11T21:24:51.572942Z"
    }
   },
   "id": "a28458ca2d93b6cc",
   "execution_count": 1
  },
  {
   "cell_type": "code",
   "execution_count": 2,
   "id": "bd60efcf-e97c-4657-a576-f5ed1df967b0",
   "metadata": {
    "ExecuteTime": {
     "end_time": "2024-11-11T21:25:14.909449Z",
     "start_time": "2024-11-11T21:25:14.844013Z"
    }
   },
   "outputs": [],
   "source": [
    "%load_ext autoreload\n",
    "%autoreload 2"
   ]
  },
  {
   "cell_type": "code",
   "outputs": [
    {
     "data": {
      "text/plain": "        eventDate  year  month   day  \\\n0      2021-02-01  2021    2.0   1.0   \n1      2021-02-01  2021    2.0   1.0   \n2      2008-09-01  2008    9.0   1.0   \n3      2008-09-01  2008    9.0   1.0   \n4      2008-09-01  2008    9.0   1.0   \n...           ...   ...    ...   ...   \n46837  2021-09-29  2021    9.0  29.0   \n46838  2021-09-29  2021    9.0  29.0   \n46839  2021-09-27  2021    9.0  27.0   \n46840  2021-09-27  2021    9.0  27.0   \n46841  1984-09-15  1984    9.0  15.0   \n\n                                                 habitat countryCode  \\\n0      Mixed woodland (with coniferous and deciduous ...          DK   \n1      Mixed woodland (with coniferous and deciduous ...          DK   \n2                                     Deciduous woodland          DK   \n3                                     Deciduous woodland          DK   \n4                                     Deciduous woodland          DK   \n...                                                  ...         ...   \n46837                       Unmanaged deciduous woodland          RU   \n46838                       Unmanaged deciduous woodland          RU   \n46839                                 Deciduous woodland          DK   \n46840                                 Deciduous woodland          DK   \n46841                                 Deciduous woodland          DK   \n\n                            scientificName kingdom         phylum  \\\n0      Mycena tintinnabulum (Paulet) Quél.   Fungi  Basidiomycota   \n1      Mycena tintinnabulum (Paulet) Quél.   Fungi  Basidiomycota   \n2       Russula cyanoxantha (Schaeff.) Fr.   Fungi  Basidiomycota   \n3       Russula cyanoxantha (Schaeff.) Fr.   Fungi  Basidiomycota   \n4       Russula cyanoxantha (Schaeff.) Fr.   Fungi  Basidiomycota   \n...                                    ...     ...            ...   \n46837                Mycena rosea Gramberg   Fungi  Basidiomycota   \n46838                Mycena rosea Gramberg   Fungi  Basidiomycota   \n46839               Russula ochroleuca Fr.   Fungi  Basidiomycota   \n46840               Russula ochroleuca Fr.   Fungi  Basidiomycota   \n46841     Amanita pantherina (DC.) Krombh.   Fungi  Basidiomycota   \n\n                class  ... observationID       region  \\\n0      Agaricomycetes  ...    3032614317     Sjælland   \n1      Agaricomycetes  ...    3032614317     Sjælland   \n2      Agaricomycetes  ...    3036761318  Midtjylland   \n3      Agaricomycetes  ...    3036761318  Midtjylland   \n4      Agaricomycetes  ...    3036761318  Midtjylland   \n...               ...  ...           ...          ...   \n46837  Agaricomycetes  ...    3429074356       Kaluga   \n46838  Agaricomycetes  ...    3429074356       Kaluga   \n46839  Agaricomycetes  ...    4100099773  Hovedstaden   \n46840  Agaricomycetes  ...    4100099773  Hovedstaden   \n46841  Agaricomycetes  ...    4847339022  Hovedstaden   \n\n                       district          filename  category_id metaSubstrate  \\\n0                       Næstved  0-3032614317.JPG          119          wood   \n1                       Næstved  1-3032614317.JPG          119          wood   \n2                         Århus  0-3036761318.JPG          144          jord   \n3                         Århus  1-3036761318.JPG          144          jord   \n4                         Århus  2-3036761318.JPG          144          jord   \n...                         ...               ...          ...           ...   \n46837  Maloyaroslavetskiy rayon  1-3429074356.JPG          109          jord   \n46838  Maloyaroslavetskiy rayon  2-3429074356.JPG          109          jord   \n46839                   Halsnæs  0-4100099773.JPG          179          jord   \n46840                   Halsnæs  1-4100099773.JPG          179          jord   \n46841                 Rudersdal  0-4847339022.JPG           35          jord   \n\n      poisonous elevation  landcover  biogeographicalRegion  \n0             0      35.0        5.0            continental  \n1             0      35.0        5.0            continental  \n2             0       6.0       10.0            continental  \n3             0       6.0       10.0            continental  \n4             0       6.0       10.0            continental  \n...         ...       ...        ...                    ...  \n46837         1       NaN        NaN                 boreal  \n46838         1       NaN        NaN                 boreal  \n46839         0       0.0       17.0            continental  \n46840         0       0.0       17.0            continental  \n46841         1      70.0        5.0            continental  \n\n[46842 rows x 31 columns]",
      "text/html": "<div>\n<style scoped>\n    .dataframe tbody tr th:only-of-type {\n        vertical-align: middle;\n    }\n\n    .dataframe tbody tr th {\n        vertical-align: top;\n    }\n\n    .dataframe thead th {\n        text-align: right;\n    }\n</style>\n<table border=\"1\" class=\"dataframe\">\n  <thead>\n    <tr style=\"text-align: right;\">\n      <th></th>\n      <th>eventDate</th>\n      <th>year</th>\n      <th>month</th>\n      <th>day</th>\n      <th>habitat</th>\n      <th>countryCode</th>\n      <th>scientificName</th>\n      <th>kingdom</th>\n      <th>phylum</th>\n      <th>class</th>\n      <th>...</th>\n      <th>observationID</th>\n      <th>region</th>\n      <th>district</th>\n      <th>filename</th>\n      <th>category_id</th>\n      <th>metaSubstrate</th>\n      <th>poisonous</th>\n      <th>elevation</th>\n      <th>landcover</th>\n      <th>biogeographicalRegion</th>\n    </tr>\n  </thead>\n  <tbody>\n    <tr>\n      <th>0</th>\n      <td>2021-02-01</td>\n      <td>2021</td>\n      <td>2.0</td>\n      <td>1.0</td>\n      <td>Mixed woodland (with coniferous and deciduous ...</td>\n      <td>DK</td>\n      <td>Mycena tintinnabulum (Paulet) Quél.</td>\n      <td>Fungi</td>\n      <td>Basidiomycota</td>\n      <td>Agaricomycetes</td>\n      <td>...</td>\n      <td>3032614317</td>\n      <td>Sjælland</td>\n      <td>Næstved</td>\n      <td>0-3032614317.JPG</td>\n      <td>119</td>\n      <td>wood</td>\n      <td>0</td>\n      <td>35.0</td>\n      <td>5.0</td>\n      <td>continental</td>\n    </tr>\n    <tr>\n      <th>1</th>\n      <td>2021-02-01</td>\n      <td>2021</td>\n      <td>2.0</td>\n      <td>1.0</td>\n      <td>Mixed woodland (with coniferous and deciduous ...</td>\n      <td>DK</td>\n      <td>Mycena tintinnabulum (Paulet) Quél.</td>\n      <td>Fungi</td>\n      <td>Basidiomycota</td>\n      <td>Agaricomycetes</td>\n      <td>...</td>\n      <td>3032614317</td>\n      <td>Sjælland</td>\n      <td>Næstved</td>\n      <td>1-3032614317.JPG</td>\n      <td>119</td>\n      <td>wood</td>\n      <td>0</td>\n      <td>35.0</td>\n      <td>5.0</td>\n      <td>continental</td>\n    </tr>\n    <tr>\n      <th>2</th>\n      <td>2008-09-01</td>\n      <td>2008</td>\n      <td>9.0</td>\n      <td>1.0</td>\n      <td>Deciduous woodland</td>\n      <td>DK</td>\n      <td>Russula cyanoxantha (Schaeff.) Fr.</td>\n      <td>Fungi</td>\n      <td>Basidiomycota</td>\n      <td>Agaricomycetes</td>\n      <td>...</td>\n      <td>3036761318</td>\n      <td>Midtjylland</td>\n      <td>Århus</td>\n      <td>0-3036761318.JPG</td>\n      <td>144</td>\n      <td>jord</td>\n      <td>0</td>\n      <td>6.0</td>\n      <td>10.0</td>\n      <td>continental</td>\n    </tr>\n    <tr>\n      <th>3</th>\n      <td>2008-09-01</td>\n      <td>2008</td>\n      <td>9.0</td>\n      <td>1.0</td>\n      <td>Deciduous woodland</td>\n      <td>DK</td>\n      <td>Russula cyanoxantha (Schaeff.) Fr.</td>\n      <td>Fungi</td>\n      <td>Basidiomycota</td>\n      <td>Agaricomycetes</td>\n      <td>...</td>\n      <td>3036761318</td>\n      <td>Midtjylland</td>\n      <td>Århus</td>\n      <td>1-3036761318.JPG</td>\n      <td>144</td>\n      <td>jord</td>\n      <td>0</td>\n      <td>6.0</td>\n      <td>10.0</td>\n      <td>continental</td>\n    </tr>\n    <tr>\n      <th>4</th>\n      <td>2008-09-01</td>\n      <td>2008</td>\n      <td>9.0</td>\n      <td>1.0</td>\n      <td>Deciduous woodland</td>\n      <td>DK</td>\n      <td>Russula cyanoxantha (Schaeff.) Fr.</td>\n      <td>Fungi</td>\n      <td>Basidiomycota</td>\n      <td>Agaricomycetes</td>\n      <td>...</td>\n      <td>3036761318</td>\n      <td>Midtjylland</td>\n      <td>Århus</td>\n      <td>2-3036761318.JPG</td>\n      <td>144</td>\n      <td>jord</td>\n      <td>0</td>\n      <td>6.0</td>\n      <td>10.0</td>\n      <td>continental</td>\n    </tr>\n    <tr>\n      <th>...</th>\n      <td>...</td>\n      <td>...</td>\n      <td>...</td>\n      <td>...</td>\n      <td>...</td>\n      <td>...</td>\n      <td>...</td>\n      <td>...</td>\n      <td>...</td>\n      <td>...</td>\n      <td>...</td>\n      <td>...</td>\n      <td>...</td>\n      <td>...</td>\n      <td>...</td>\n      <td>...</td>\n      <td>...</td>\n      <td>...</td>\n      <td>...</td>\n      <td>...</td>\n      <td>...</td>\n    </tr>\n    <tr>\n      <th>46837</th>\n      <td>2021-09-29</td>\n      <td>2021</td>\n      <td>9.0</td>\n      <td>29.0</td>\n      <td>Unmanaged deciduous woodland</td>\n      <td>RU</td>\n      <td>Mycena rosea Gramberg</td>\n      <td>Fungi</td>\n      <td>Basidiomycota</td>\n      <td>Agaricomycetes</td>\n      <td>...</td>\n      <td>3429074356</td>\n      <td>Kaluga</td>\n      <td>Maloyaroslavetskiy rayon</td>\n      <td>1-3429074356.JPG</td>\n      <td>109</td>\n      <td>jord</td>\n      <td>1</td>\n      <td>NaN</td>\n      <td>NaN</td>\n      <td>boreal</td>\n    </tr>\n    <tr>\n      <th>46838</th>\n      <td>2021-09-29</td>\n      <td>2021</td>\n      <td>9.0</td>\n      <td>29.0</td>\n      <td>Unmanaged deciduous woodland</td>\n      <td>RU</td>\n      <td>Mycena rosea Gramberg</td>\n      <td>Fungi</td>\n      <td>Basidiomycota</td>\n      <td>Agaricomycetes</td>\n      <td>...</td>\n      <td>3429074356</td>\n      <td>Kaluga</td>\n      <td>Maloyaroslavetskiy rayon</td>\n      <td>2-3429074356.JPG</td>\n      <td>109</td>\n      <td>jord</td>\n      <td>1</td>\n      <td>NaN</td>\n      <td>NaN</td>\n      <td>boreal</td>\n    </tr>\n    <tr>\n      <th>46839</th>\n      <td>2021-09-27</td>\n      <td>2021</td>\n      <td>9.0</td>\n      <td>27.0</td>\n      <td>Deciduous woodland</td>\n      <td>DK</td>\n      <td>Russula ochroleuca Fr.</td>\n      <td>Fungi</td>\n      <td>Basidiomycota</td>\n      <td>Agaricomycetes</td>\n      <td>...</td>\n      <td>4100099773</td>\n      <td>Hovedstaden</td>\n      <td>Halsnæs</td>\n      <td>0-4100099773.JPG</td>\n      <td>179</td>\n      <td>jord</td>\n      <td>0</td>\n      <td>0.0</td>\n      <td>17.0</td>\n      <td>continental</td>\n    </tr>\n    <tr>\n      <th>46840</th>\n      <td>2021-09-27</td>\n      <td>2021</td>\n      <td>9.0</td>\n      <td>27.0</td>\n      <td>Deciduous woodland</td>\n      <td>DK</td>\n      <td>Russula ochroleuca Fr.</td>\n      <td>Fungi</td>\n      <td>Basidiomycota</td>\n      <td>Agaricomycetes</td>\n      <td>...</td>\n      <td>4100099773</td>\n      <td>Hovedstaden</td>\n      <td>Halsnæs</td>\n      <td>1-4100099773.JPG</td>\n      <td>179</td>\n      <td>jord</td>\n      <td>0</td>\n      <td>0.0</td>\n      <td>17.0</td>\n      <td>continental</td>\n    </tr>\n    <tr>\n      <th>46841</th>\n      <td>1984-09-15</td>\n      <td>1984</td>\n      <td>9.0</td>\n      <td>15.0</td>\n      <td>Deciduous woodland</td>\n      <td>DK</td>\n      <td>Amanita pantherina (DC.) Krombh.</td>\n      <td>Fungi</td>\n      <td>Basidiomycota</td>\n      <td>Agaricomycetes</td>\n      <td>...</td>\n      <td>4847339022</td>\n      <td>Hovedstaden</td>\n      <td>Rudersdal</td>\n      <td>0-4847339022.JPG</td>\n      <td>35</td>\n      <td>jord</td>\n      <td>1</td>\n      <td>70.0</td>\n      <td>5.0</td>\n      <td>continental</td>\n    </tr>\n  </tbody>\n</table>\n<p>46842 rows × 31 columns</p>\n</div>"
     },
     "execution_count": 4,
     "metadata": {},
     "output_type": "execute_result"
    }
   ],
   "source": [
    "## Using metadata\n",
    "train_df = pd.read_csv(\"./FungiTastic-Mini-Train.csv\")\n",
    "val_df = pd.read_csv(\"./FungiTastic-Mini-ClosedSet-Val.csv\")\n",
    "\n",
    "# train_df = pd.read_csv(\"./FungiTastic-Train.csv\")\n",
    "# test_df = pd.read_csv(\"./FungiTastic-ClosedSet-Val.csv\")\n",
    "\n",
    "labels = sorted(train_df[\"category_id\"].unique())\n",
    "\n",
    "train_df"
   ],
   "metadata": {
    "collapsed": false,
    "ExecuteTime": {
     "end_time": "2024-11-11T21:25:35.327022Z",
     "start_time": "2024-11-11T21:25:35.062297Z"
    }
   },
   "id": "5e89e6532470022f",
   "execution_count": 4
  },
  {
   "cell_type": "code",
   "outputs": [
    {
     "data": {
      "text/plain": "30473"
     },
     "execution_count": 4,
     "metadata": {},
     "output_type": "execute_result"
    }
   ],
   "source": [
    "TRAIN_IMAGE_DIR = \"/Users/lukaspicek/Downloads/images/FungiTastic-Mini/train/500p\"\n",
    "train_df[\"image_path\"] = train_df.filename.apply(\n",
    "    lambda filename: os.path.join(TRAIN_IMAGE_DIR, filename))\n",
    "\n",
    "TEST_IMAGE_DIR = \"/Users/lukaspicek/Downloads/images/FungiTastic-Mini/val/500p\"\n",
    "\n",
    "test_df[\"image_path\"] = test_df.filename.apply(\n",
    "    lambda filename: os.path.join(TEST_IMAGE_DIR, filename))\n",
    "from sklearn import preprocessing\n",
    "\n",
    "label_encoders = {}\n",
    "columns_to_be_encoded = [\"habitat\", \"substrate\", \"metaSubstrate\"]\n",
    "\n",
    "for column_name in columns_to_be_encoded:\n",
    "    le = preprocessing.LabelEncoder()\n",
    "    le.fit(train_df[column_name].unique())\n",
    "    label_encoders = {column_name: le}\n",
    "\n",
    "    train_df[column_name] = le.transform(train_df[column_name]).astype(np.int64)\n",
    "    test_df[column_name] = le.transform(test_df[column_name]).astype(np.int64)\n",
    "metadata = pd.concat([train_df, test_df])\n",
    "metadata = metadata.drop_duplicates(subset=\"observationID\")\n",
    "len(metadata)"
   ],
   "metadata": {
    "collapsed": false,
    "ExecuteTime": {
     "end_time": "2024-10-06T18:55:54.879994Z",
     "start_time": "2024-10-06T18:55:54.783965Z"
    }
   },
   "id": "2229df3f1096888d",
   "execution_count": 4
  },
  {
   "cell_type": "markdown",
   "id": "6edc81c6-4a02-4265-b511-10b563d1541d",
   "metadata": {},
   "source": [
    "# Calculating prios"
   ]
  },
  {
   "cell_type": "code",
   "execution_count": 5,
   "id": "86453c2d-c982-42ea-a1f2-6616e58f073d",
   "metadata": {
    "ExecuteTime": {
     "end_time": "2024-10-06T18:55:58.017242Z",
     "start_time": "2024-10-06T18:55:57.994236Z"
    }
   },
   "outputs": [
    {
     "data": {
      "text/plain": "1.0000000000000004"
     },
     "execution_count": 5,
     "metadata": {},
     "output_type": "execute_result"
    }
   ],
   "source": [
    "TARGET_FEATURE = \"category_id\"\n",
    "\n",
    "cls_counts = metadata.groupby(TARGET_FEATURE).size()\n",
    "class_distribution = cls_counts / len(metadata)\n",
    "sum(class_distribution)\n",
    "\n"
   ]
  },
  {
   "cell_type": "markdown",
   "id": "dd79a272-2db3-4245-bf2c-f41baa52cbef",
   "metadata": {},
   "source": [
    "## Calculate Distributions of Selected Features"
   ]
  },
  {
   "cell_type": "code",
   "execution_count": 6,
   "id": "15f5a032-bc52-42f1-ba52-1a481e65972a",
   "metadata": {
    "tags": [],
    "ExecuteTime": {
     "end_time": "2024-10-06T18:56:04.896513Z",
     "start_time": "2024-10-06T18:56:02.143963Z"
    }
   },
   "outputs": [
    {
     "name": "stderr",
     "output_type": "stream",
     "text": [
      "INFO:albumentations.check_version:A new version of Albumentations is available: 1.4.17 (you have 1.4.13). Upgrade using: pip install -U albumentations. To disable automatic update checks, set the environment variable NO_ALBUMENTATIONS_UPDATE to 1.\n"
     ]
    }
   ],
   "source": [
    "from utils.matadata_processing import get_target_to_feature_conditional_distributions\n",
    "\n",
    "SELECTED_FEATURES = [\"habitat\", \"month\", \"substrate\", \"metaSubstrate\"]\n",
    "\n",
    "# test_df = test_df[~test_df[SELECTED_FEATURES].isna().any(axis=1)]\n",
    "\n",
    "metadata_distributions = {}\n",
    "for feature in SELECTED_FEATURES:\n",
    "    metadata_distributions[feature] = get_target_to_feature_conditional_distributions(\n",
    "        metadata,\n",
    "        feature,\n",
    "        TARGET_FEATURE,\n",
    "        add_to_missing=False\n",
    "    )"
   ]
  },
  {
   "cell_type": "markdown",
   "id": "e139f486-6a29-46c2-9757-fbaca96dd24d",
   "metadata": {},
   "source": [
    "# Predictions"
   ]
  },
  {
   "cell_type": "markdown",
   "id": "7931d356-0161-49b9-a252-22d9964b7ce4",
   "metadata": {},
   "source": [
    "## 1. Loading model from HuggingFace hub ⏳"
   ]
  },
  {
   "cell_type": "code",
   "execution_count": 7,
   "id": "7fd9594b-efc2-4f65-815b-fa10d3249e84",
   "metadata": {
    "scrolled": true,
    "ExecuteTime": {
     "end_time": "2024-10-06T18:56:52.378396Z",
     "start_time": "2024-10-06T18:56:50.055885Z"
    }
   },
   "outputs": [
    {
     "name": "stderr",
     "output_type": "stream",
     "text": [
      "INFO:timm.models._builder:Loading pretrained weights from Hugging Face hub (BVRA/vit_base_patch16_224.in1k_ft_fungitastic_224)\n",
      "/opt/homebrew/Caskroom/miniforge/base/lib/python3.9/site-packages/timm/models/_hub.py:190: FutureWarning: You are using `torch.load` with `weights_only=False` (the current default value), which uses the default pickle module implicitly. It is possible to construct malicious pickle data which will execute arbitrary code during unpickling (See https://github.com/pytorch/pytorch/blob/main/SECURITY.md#untrusted-models for more details). In a future release, the default value for `weights_only` will be flipped to `True`. This limits the functions that could be executed during unpickling. Arbitrary objects will no longer be allowed to be loaded via this mode unless they are explicitly allowlisted by the user via `torch.serialization.add_safe_globals`. We recommend you start setting `weights_only=True` for any use case where you don't have full control of the loaded file. Please open an issue on GitHub for any issues related to this experimental feature.\n",
      "  return torch.load(cached_file, map_location='cpu')\n"
     ]
    },
    {
     "name": "stdout",
     "output_type": "stream",
     "text": [
      "[0.5, 0.5, 0.5] [0.5, 0.5, 0.5]\n",
      "Done. mps\n"
     ]
    }
   ],
   "source": [
    "N_CLASSES = len(metadata[TARGET_FEATURE].unique())\n",
    "IMAGE_SIZE = [224, 224]\n",
    "\n",
    "MODEL_NAME = \"BVRA/vit_base_patch16_224.in1k_ft_fungitastic_224\" #\n",
    "\n",
    "USE_CALIBRATION = True\n",
    "USE_OBSERVATION_PREDS = True\n",
    "\n",
    "model = timm.create_model(f\"hf-hub:{MODEL_NAME}\", pretrained=True)\n",
    "model = model.eval()\n",
    "\n",
    "# model_mean = list(model.default_cfg['mean'])\n",
    "# model_std = list(model.default_cfg['std'])\n",
    "# print(model_mean, model_std)\n",
    "model_mean =  [0.5, 0.5, 0.5]\n",
    "model_std = [0.5, 0.5, 0.5]\n",
    "\n",
    "print(model_mean, model_std)\n",
    "\n",
    "model.to(device)\n",
    "model.eval()\n",
    "print(f\"Done. {device}\")"
   ]
  },
  {
   "cell_type": "code",
   "execution_count": 8,
   "id": "a5364f28-94a5-4ba4-a302-ef73efc9306e",
   "metadata": {
    "ExecuteTime": {
     "end_time": "2024-10-06T18:56:55.639825Z",
     "start_time": "2024-10-06T18:56:55.216400Z"
    }
   },
   "outputs": [],
   "source": [
    "from fgvc.special.calibration import ModelWithTemperature, get_temperature\n",
    "\n",
    "if USE_CALIBRATION:\n",
    "    model = ModelWithTemperature(model)\n",
    "    model.to(device)"
   ]
  },
  {
   "cell_type": "markdown",
   "id": "311b9f58-49d9-40cd-8c29-0a136051be56",
   "metadata": {},
   "source": [
    "## 2. Prepare Dataloader"
   ]
  },
  {
   "cell_type": "code",
   "execution_count": 9,
   "id": "66398181-d466-4e60-986a-86a140be01d8",
   "metadata": {
    "ExecuteTime": {
     "end_time": "2024-10-06T18:57:01.362877Z",
     "start_time": "2024-10-06T18:57:01.336218Z"
    }
   },
   "outputs": [],
   "source": [
    "from utils.DanishFungiDataset import DanishFungiDataset, get_transforms\n",
    "\n",
    "test_dataset = DanishFungiDataset(\n",
    "    test_df,\n",
    "    image_path_feature='image_path',\n",
    "    target_feature=TARGET_FEATURE,\n",
    "    extra_features=[*SELECTED_FEATURES, \"observationID\"], \n",
    "    transform=get_transforms(model_mean, model_std, IMAGE_SIZE)\n",
    ")"
   ]
  },
  {
   "cell_type": "code",
   "outputs": [
    {
     "data": {
      "text/plain": "       eventDate    year  month   day  habitat countryCode  \\\n0     2022-01-01  2022.0    1.0   1.0       12          DK   \n1     2022-01-01  2022.0    1.0   1.0       10          DK   \n2     2022-01-01  2022.0    1.0   1.0       10          DK   \n3     2022-01-02  2022.0    1.0   2.0       25          DK   \n4     2022-01-02  2022.0    1.0   2.0       25          DK   \n...          ...     ...    ...   ...      ...         ...   \n9407  2022-12-29  2022.0   12.0  29.0        5          DK   \n9408  2022-12-29  2022.0   12.0  29.0        5          DK   \n9409  2022-12-29  2022.0   12.0  29.0        5          DK   \n9410  2022-10-04  2022.0   10.0   4.0        4          DK   \n9411  2022-09-08  2022.0    9.0   8.0        2          DK   \n\n                       scientificName kingdom         phylum           class  \\\n0     Mycena chlorantha (Fr.) P.Kumm.   Fungi  Basidiomycota  Agaricomycetes   \n1      Clitocybe vibecina (Fr.) Quél.   Fungi  Basidiomycota  Agaricomycetes   \n2      Clitocybe vibecina (Fr.) Quél.   Fungi  Basidiomycota  Agaricomycetes   \n3          Mycena vitilis (Fr.) Quél.   Fungi  Basidiomycota  Agaricomycetes   \n4          Mycena vitilis (Fr.) Quél.   Fungi  Basidiomycota  Agaricomycetes   \n...                               ...     ...            ...             ...   \n9407        Mycena juniperina Aronsen   Fungi  Basidiomycota  Agaricomycetes   \n9408        Mycena juniperina Aronsen   Fungi  Basidiomycota  Agaricomycetes   \n9409        Mycena juniperina Aronsen   Fungi  Basidiomycota  Agaricomycetes   \n9410       Amanita muscaria (L.) Lam.   Fungi  Basidiomycota  Agaricomycetes   \n9411             Boletus edulis Bull.   Fungi  Basidiomycota  Agaricomycetes   \n\n      ...       region       district          filename category_id  \\\n0     ...     Sjælland         Solrød  0-3424503353.JPG          72   \n1     ...  Midtjylland      Silkeborg  0-3424490362.JPG          60   \n2     ...  Midtjylland      Silkeborg  1-3424490362.JPG          60   \n3     ...     Sjælland           Køge  0-3429085305.JPG         120   \n4     ...     Sjælland           Køge  1-3429085305.JPG         120   \n...   ...          ...            ...               ...         ...   \n9407  ...  Nordjylland  Mariagerfjord  0-4100094061.JPG          87   \n9408  ...  Nordjylland  Mariagerfjord  1-4100094061.JPG          87   \n9409  ...  Nordjylland  Mariagerfjord  2-4100094061.JPG          87   \n9410  ...     Sjælland           Køge  0-4100104275.JPG          33   \n9411  ...  Hovedstaden       Gribskov  0-4100107334.JPG          44   \n\n      metaSubstrate poisonous elevation  landcover  biogeographicalRegion  \\\n0                 6         0      98.0        9.0            continental   \n1                 3         0     122.0        1.0               atlantic   \n2                 3         0     122.0        1.0               atlantic   \n3                 8         0     104.0        5.0            continental   \n4                 8         0     104.0        5.0            continental   \n...             ...       ...       ...        ...                    ...   \n9407              8         0       0.0       17.0            continental   \n9408              8         0       0.0       17.0            continental   \n9409              8         0       0.0       17.0            continental   \n9410              6         1      74.0       12.0            continental   \n9411              6         0      88.0       12.0            continental   \n\n                                             image_path  \n0     /Users/lukaspicek/Downloads/images/FungiTastic...  \n1     /Users/lukaspicek/Downloads/images/FungiTastic...  \n2     /Users/lukaspicek/Downloads/images/FungiTastic...  \n3     /Users/lukaspicek/Downloads/images/FungiTastic...  \n4     /Users/lukaspicek/Downloads/images/FungiTastic...  \n...                                                 ...  \n9407  /Users/lukaspicek/Downloads/images/FungiTastic...  \n9408  /Users/lukaspicek/Downloads/images/FungiTastic...  \n9409  /Users/lukaspicek/Downloads/images/FungiTastic...  \n9410  /Users/lukaspicek/Downloads/images/FungiTastic...  \n9411  /Users/lukaspicek/Downloads/images/FungiTastic...  \n\n[9412 rows x 32 columns]",
      "text/html": "<div>\n<style scoped>\n    .dataframe tbody tr th:only-of-type {\n        vertical-align: middle;\n    }\n\n    .dataframe tbody tr th {\n        vertical-align: top;\n    }\n\n    .dataframe thead th {\n        text-align: right;\n    }\n</style>\n<table border=\"1\" class=\"dataframe\">\n  <thead>\n    <tr style=\"text-align: right;\">\n      <th></th>\n      <th>eventDate</th>\n      <th>year</th>\n      <th>month</th>\n      <th>day</th>\n      <th>habitat</th>\n      <th>countryCode</th>\n      <th>scientificName</th>\n      <th>kingdom</th>\n      <th>phylum</th>\n      <th>class</th>\n      <th>...</th>\n      <th>region</th>\n      <th>district</th>\n      <th>filename</th>\n      <th>category_id</th>\n      <th>metaSubstrate</th>\n      <th>poisonous</th>\n      <th>elevation</th>\n      <th>landcover</th>\n      <th>biogeographicalRegion</th>\n      <th>image_path</th>\n    </tr>\n  </thead>\n  <tbody>\n    <tr>\n      <th>0</th>\n      <td>2022-01-01</td>\n      <td>2022.0</td>\n      <td>1.0</td>\n      <td>1.0</td>\n      <td>12</td>\n      <td>DK</td>\n      <td>Mycena chlorantha (Fr.) P.Kumm.</td>\n      <td>Fungi</td>\n      <td>Basidiomycota</td>\n      <td>Agaricomycetes</td>\n      <td>...</td>\n      <td>Sjælland</td>\n      <td>Solrød</td>\n      <td>0-3424503353.JPG</td>\n      <td>72</td>\n      <td>6</td>\n      <td>0</td>\n      <td>98.0</td>\n      <td>9.0</td>\n      <td>continental</td>\n      <td>/Users/lukaspicek/Downloads/images/FungiTastic...</td>\n    </tr>\n    <tr>\n      <th>1</th>\n      <td>2022-01-01</td>\n      <td>2022.0</td>\n      <td>1.0</td>\n      <td>1.0</td>\n      <td>10</td>\n      <td>DK</td>\n      <td>Clitocybe vibecina (Fr.) Quél.</td>\n      <td>Fungi</td>\n      <td>Basidiomycota</td>\n      <td>Agaricomycetes</td>\n      <td>...</td>\n      <td>Midtjylland</td>\n      <td>Silkeborg</td>\n      <td>0-3424490362.JPG</td>\n      <td>60</td>\n      <td>3</td>\n      <td>0</td>\n      <td>122.0</td>\n      <td>1.0</td>\n      <td>atlantic</td>\n      <td>/Users/lukaspicek/Downloads/images/FungiTastic...</td>\n    </tr>\n    <tr>\n      <th>2</th>\n      <td>2022-01-01</td>\n      <td>2022.0</td>\n      <td>1.0</td>\n      <td>1.0</td>\n      <td>10</td>\n      <td>DK</td>\n      <td>Clitocybe vibecina (Fr.) Quél.</td>\n      <td>Fungi</td>\n      <td>Basidiomycota</td>\n      <td>Agaricomycetes</td>\n      <td>...</td>\n      <td>Midtjylland</td>\n      <td>Silkeborg</td>\n      <td>1-3424490362.JPG</td>\n      <td>60</td>\n      <td>3</td>\n      <td>0</td>\n      <td>122.0</td>\n      <td>1.0</td>\n      <td>atlantic</td>\n      <td>/Users/lukaspicek/Downloads/images/FungiTastic...</td>\n    </tr>\n    <tr>\n      <th>3</th>\n      <td>2022-01-02</td>\n      <td>2022.0</td>\n      <td>1.0</td>\n      <td>2.0</td>\n      <td>25</td>\n      <td>DK</td>\n      <td>Mycena vitilis (Fr.) Quél.</td>\n      <td>Fungi</td>\n      <td>Basidiomycota</td>\n      <td>Agaricomycetes</td>\n      <td>...</td>\n      <td>Sjælland</td>\n      <td>Køge</td>\n      <td>0-3429085305.JPG</td>\n      <td>120</td>\n      <td>8</td>\n      <td>0</td>\n      <td>104.0</td>\n      <td>5.0</td>\n      <td>continental</td>\n      <td>/Users/lukaspicek/Downloads/images/FungiTastic...</td>\n    </tr>\n    <tr>\n      <th>4</th>\n      <td>2022-01-02</td>\n      <td>2022.0</td>\n      <td>1.0</td>\n      <td>2.0</td>\n      <td>25</td>\n      <td>DK</td>\n      <td>Mycena vitilis (Fr.) Quél.</td>\n      <td>Fungi</td>\n      <td>Basidiomycota</td>\n      <td>Agaricomycetes</td>\n      <td>...</td>\n      <td>Sjælland</td>\n      <td>Køge</td>\n      <td>1-3429085305.JPG</td>\n      <td>120</td>\n      <td>8</td>\n      <td>0</td>\n      <td>104.0</td>\n      <td>5.0</td>\n      <td>continental</td>\n      <td>/Users/lukaspicek/Downloads/images/FungiTastic...</td>\n    </tr>\n    <tr>\n      <th>...</th>\n      <td>...</td>\n      <td>...</td>\n      <td>...</td>\n      <td>...</td>\n      <td>...</td>\n      <td>...</td>\n      <td>...</td>\n      <td>...</td>\n      <td>...</td>\n      <td>...</td>\n      <td>...</td>\n      <td>...</td>\n      <td>...</td>\n      <td>...</td>\n      <td>...</td>\n      <td>...</td>\n      <td>...</td>\n      <td>...</td>\n      <td>...</td>\n      <td>...</td>\n      <td>...</td>\n    </tr>\n    <tr>\n      <th>9407</th>\n      <td>2022-12-29</td>\n      <td>2022.0</td>\n      <td>12.0</td>\n      <td>29.0</td>\n      <td>5</td>\n      <td>DK</td>\n      <td>Mycena juniperina Aronsen</td>\n      <td>Fungi</td>\n      <td>Basidiomycota</td>\n      <td>Agaricomycetes</td>\n      <td>...</td>\n      <td>Nordjylland</td>\n      <td>Mariagerfjord</td>\n      <td>0-4100094061.JPG</td>\n      <td>87</td>\n      <td>8</td>\n      <td>0</td>\n      <td>0.0</td>\n      <td>17.0</td>\n      <td>continental</td>\n      <td>/Users/lukaspicek/Downloads/images/FungiTastic...</td>\n    </tr>\n    <tr>\n      <th>9408</th>\n      <td>2022-12-29</td>\n      <td>2022.0</td>\n      <td>12.0</td>\n      <td>29.0</td>\n      <td>5</td>\n      <td>DK</td>\n      <td>Mycena juniperina Aronsen</td>\n      <td>Fungi</td>\n      <td>Basidiomycota</td>\n      <td>Agaricomycetes</td>\n      <td>...</td>\n      <td>Nordjylland</td>\n      <td>Mariagerfjord</td>\n      <td>1-4100094061.JPG</td>\n      <td>87</td>\n      <td>8</td>\n      <td>0</td>\n      <td>0.0</td>\n      <td>17.0</td>\n      <td>continental</td>\n      <td>/Users/lukaspicek/Downloads/images/FungiTastic...</td>\n    </tr>\n    <tr>\n      <th>9409</th>\n      <td>2022-12-29</td>\n      <td>2022.0</td>\n      <td>12.0</td>\n      <td>29.0</td>\n      <td>5</td>\n      <td>DK</td>\n      <td>Mycena juniperina Aronsen</td>\n      <td>Fungi</td>\n      <td>Basidiomycota</td>\n      <td>Agaricomycetes</td>\n      <td>...</td>\n      <td>Nordjylland</td>\n      <td>Mariagerfjord</td>\n      <td>2-4100094061.JPG</td>\n      <td>87</td>\n      <td>8</td>\n      <td>0</td>\n      <td>0.0</td>\n      <td>17.0</td>\n      <td>continental</td>\n      <td>/Users/lukaspicek/Downloads/images/FungiTastic...</td>\n    </tr>\n    <tr>\n      <th>9410</th>\n      <td>2022-10-04</td>\n      <td>2022.0</td>\n      <td>10.0</td>\n      <td>4.0</td>\n      <td>4</td>\n      <td>DK</td>\n      <td>Amanita muscaria (L.) Lam.</td>\n      <td>Fungi</td>\n      <td>Basidiomycota</td>\n      <td>Agaricomycetes</td>\n      <td>...</td>\n      <td>Sjælland</td>\n      <td>Køge</td>\n      <td>0-4100104275.JPG</td>\n      <td>33</td>\n      <td>6</td>\n      <td>1</td>\n      <td>74.0</td>\n      <td>12.0</td>\n      <td>continental</td>\n      <td>/Users/lukaspicek/Downloads/images/FungiTastic...</td>\n    </tr>\n    <tr>\n      <th>9411</th>\n      <td>2022-09-08</td>\n      <td>2022.0</td>\n      <td>9.0</td>\n      <td>8.0</td>\n      <td>2</td>\n      <td>DK</td>\n      <td>Boletus edulis Bull.</td>\n      <td>Fungi</td>\n      <td>Basidiomycota</td>\n      <td>Agaricomycetes</td>\n      <td>...</td>\n      <td>Hovedstaden</td>\n      <td>Gribskov</td>\n      <td>0-4100107334.JPG</td>\n      <td>44</td>\n      <td>6</td>\n      <td>0</td>\n      <td>88.0</td>\n      <td>12.0</td>\n      <td>continental</td>\n      <td>/Users/lukaspicek/Downloads/images/FungiTastic...</td>\n    </tr>\n  </tbody>\n</table>\n<p>9412 rows × 32 columns</p>\n</div>"
     },
     "execution_count": 10,
     "metadata": {},
     "output_type": "execute_result"
    }
   ],
   "source": [
    "test_df"
   ],
   "metadata": {
    "collapsed": false,
    "ExecuteTime": {
     "end_time": "2024-10-06T18:57:03.353828Z",
     "start_time": "2024-10-06T18:57:03.311608Z"
    }
   },
   "id": "da8ee336e560e511",
   "execution_count": 10
  },
  {
   "cell_type": "code",
   "execution_count": 11,
   "id": "d1b84de4-6636-433c-af1f-d6f714af4a23",
   "metadata": {
    "ExecuteTime": {
     "end_time": "2024-10-06T18:57:24.613260Z",
     "start_time": "2024-10-06T18:57:24.586671Z"
    }
   },
   "outputs": [],
   "source": [
    "batch_size = 64\n",
    "\n",
    "test_loader = DataLoader(test_dataset, batch_size=batch_size, shuffle=False, num_workers=8)"
   ]
  },
  {
   "cell_type": "markdown",
   "id": "28b2299f-52a7-4ace-afd8-366c49b466e3",
   "metadata": {
    "tags": []
   },
   "source": [
    "## Inference with pre-trained model"
   ]
  },
  {
   "cell_type": "code",
   "execution_count": 12,
   "id": "29a61348-5559-47fe-9d22-33dee32c4ec0",
   "metadata": {
    "ExecuteTime": {
     "end_time": "2024-10-06T19:00:26.247298Z",
     "start_time": "2024-10-06T18:57:27.892224Z"
    }
   },
   "outputs": [
    {
     "name": "stderr",
     "output_type": "stream",
     "text": [
      "  0%|          | 0/148 [00:00<?, ?it/s]INFO:albumentations.check_version:A new version of Albumentations is available: 1.4.17 (you have 1.4.13). Upgrade using: pip install -U albumentations. To disable automatic update checks, set the environment variable NO_ALBUMENTATIONS_UPDATE to 1.\n",
      "INFO:albumentations.check_version:A new version of Albumentations is available: 1.4.17 (you have 1.4.13). Upgrade using: pip install -U albumentations. To disable automatic update checks, set the environment variable NO_ALBUMENTATIONS_UPDATE to 1.\n",
      "INFO:albumentations.check_version:A new version of Albumentations is available: 1.4.17 (you have 1.4.13). Upgrade using: pip install -U albumentations. To disable automatic update checks, set the environment variable NO_ALBUMENTATIONS_UPDATE to 1.\n",
      "INFO:albumentations.check_version:A new version of Albumentations is available: 1.4.17 (you have 1.4.13). Upgrade using: pip install -U albumentations. To disable automatic update checks, set the environment variable NO_ALBUMENTATIONS_UPDATE to 1.\n",
      "INFO:albumentations.check_version:A new version of Albumentations is available: 1.4.17 (you have 1.4.13). Upgrade using: pip install -U albumentations. To disable automatic update checks, set the environment variable NO_ALBUMENTATIONS_UPDATE to 1.\n",
      "INFO:albumentations.check_version:A new version of Albumentations is available: 1.4.17 (you have 1.4.13). Upgrade using: pip install -U albumentations. To disable automatic update checks, set the environment variable NO_ALBUMENTATIONS_UPDATE to 1.\n",
      "INFO:albumentations.check_version:A new version of Albumentations is available: 1.4.17 (you have 1.4.13). Upgrade using: pip install -U albumentations. To disable automatic update checks, set the environment variable NO_ALBUMENTATIONS_UPDATE to 1.\n",
      "INFO:albumentations.check_version:A new version of Albumentations is available: 1.4.17 (you have 1.4.13). Upgrade using: pip install -U albumentations. To disable automatic update checks, set the environment variable NO_ALBUMENTATIONS_UPDATE to 1.\n",
      "100%|██████████| 148/148 [02:57<00:00,  1.20s/it]\n"
     ]
    },
    {
     "name": "stdout",
     "output_type": "stream",
     "text": [
      "Vanilla: 0.00030176489348527475 0.0009562260943476413\n"
     ]
    },
    {
     "ename": "ValueError",
     "evalue": "Number of given labels (215) not equal to the number of classes in 'y_score' (2829).",
     "output_type": "error",
     "traceback": [
      "\u001B[0;31m---------------------------------------------------------------------------\u001B[0m",
      "\u001B[0;31mValueError\u001B[0m                                Traceback (most recent call last)",
      "Cell \u001B[0;32mIn[12], line 8\u001B[0m\n\u001B[1;32m      6\u001B[0m vanilla_accuracy \u001B[38;5;241m=\u001B[39m accuracy_score(test_df[TARGET_FEATURE], preds)\n\u001B[1;32m      7\u001B[0m \u001B[38;5;28mprint\u001B[39m(\u001B[38;5;124m'\u001B[39m\u001B[38;5;124mVanilla:\u001B[39m\u001B[38;5;124m'\u001B[39m, vanilla_f1, vanilla_accuracy)\n\u001B[0;32m----> 8\u001B[0m vanilla_recall_3 \u001B[38;5;241m=\u001B[39m \u001B[43mtop_k_accuracy_score\u001B[49m\u001B[43m(\u001B[49m\u001B[43mtest_df\u001B[49m\u001B[43m[\u001B[49m\u001B[43mTARGET_FEATURE\u001B[49m\u001B[43m]\u001B[49m\u001B[43m,\u001B[49m\u001B[43m \u001B[49m\u001B[43mpreds_raw\u001B[49m\u001B[43m,\u001B[49m\u001B[43m \u001B[49m\u001B[43mk\u001B[49m\u001B[38;5;241;43m=\u001B[39;49m\u001B[38;5;241;43m3\u001B[39;49m\u001B[43m,\u001B[49m\u001B[43m \u001B[49m\u001B[43mlabels\u001B[49m\u001B[38;5;241;43m=\u001B[39;49m\u001B[43mlabels\u001B[49m\u001B[43m)\u001B[49m\n\u001B[1;32m      9\u001B[0m vanilla_recall_5 \u001B[38;5;241m=\u001B[39m top_k_accuracy_score(test_df[TARGET_FEATURE], preds_raw, k\u001B[38;5;241m=\u001B[39m\u001B[38;5;241m5\u001B[39m, labels\u001B[38;5;241m=\u001B[39mlabels)\n\u001B[1;32m     10\u001B[0m vanilla_recall_10 \u001B[38;5;241m=\u001B[39m top_k_accuracy_score(test_df[TARGET_FEATURE], preds_raw, k\u001B[38;5;241m=\u001B[39m\u001B[38;5;241m10\u001B[39m, labels\u001B[38;5;241m=\u001B[39mlabels)\n",
      "File \u001B[0;32m/opt/homebrew/Caskroom/miniforge/base/lib/python3.9/site-packages/sklearn/utils/_param_validation.py:213\u001B[0m, in \u001B[0;36mvalidate_params.<locals>.decorator.<locals>.wrapper\u001B[0;34m(*args, **kwargs)\u001B[0m\n\u001B[1;32m    207\u001B[0m \u001B[38;5;28;01mtry\u001B[39;00m:\n\u001B[1;32m    208\u001B[0m     \u001B[38;5;28;01mwith\u001B[39;00m config_context(\n\u001B[1;32m    209\u001B[0m         skip_parameter_validation\u001B[38;5;241m=\u001B[39m(\n\u001B[1;32m    210\u001B[0m             prefer_skip_nested_validation \u001B[38;5;129;01mor\u001B[39;00m global_skip_validation\n\u001B[1;32m    211\u001B[0m         )\n\u001B[1;32m    212\u001B[0m     ):\n\u001B[0;32m--> 213\u001B[0m         \u001B[38;5;28;01mreturn\u001B[39;00m \u001B[43mfunc\u001B[49m\u001B[43m(\u001B[49m\u001B[38;5;241;43m*\u001B[39;49m\u001B[43margs\u001B[49m\u001B[43m,\u001B[49m\u001B[43m \u001B[49m\u001B[38;5;241;43m*\u001B[39;49m\u001B[38;5;241;43m*\u001B[39;49m\u001B[43mkwargs\u001B[49m\u001B[43m)\u001B[49m\n\u001B[1;32m    214\u001B[0m \u001B[38;5;28;01mexcept\u001B[39;00m InvalidParameterError \u001B[38;5;28;01mas\u001B[39;00m e:\n\u001B[1;32m    215\u001B[0m     \u001B[38;5;66;03m# When the function is just a wrapper around an estimator, we allow\u001B[39;00m\n\u001B[1;32m    216\u001B[0m     \u001B[38;5;66;03m# the function to delegate validation to the estimator, but we replace\u001B[39;00m\n\u001B[1;32m    217\u001B[0m     \u001B[38;5;66;03m# the name of the estimator by the name of the function in the error\u001B[39;00m\n\u001B[1;32m    218\u001B[0m     \u001B[38;5;66;03m# message to avoid confusion.\u001B[39;00m\n\u001B[1;32m    219\u001B[0m     msg \u001B[38;5;241m=\u001B[39m re\u001B[38;5;241m.\u001B[39msub(\n\u001B[1;32m    220\u001B[0m         \u001B[38;5;124mr\u001B[39m\u001B[38;5;124m\"\u001B[39m\u001B[38;5;124mparameter of \u001B[39m\u001B[38;5;124m\\\u001B[39m\u001B[38;5;124mw+ must be\u001B[39m\u001B[38;5;124m\"\u001B[39m,\n\u001B[1;32m    221\u001B[0m         \u001B[38;5;124mf\u001B[39m\u001B[38;5;124m\"\u001B[39m\u001B[38;5;124mparameter of \u001B[39m\u001B[38;5;132;01m{\u001B[39;00mfunc\u001B[38;5;241m.\u001B[39m\u001B[38;5;18m__qualname__\u001B[39m\u001B[38;5;132;01m}\u001B[39;00m\u001B[38;5;124m must be\u001B[39m\u001B[38;5;124m\"\u001B[39m,\n\u001B[1;32m    222\u001B[0m         \u001B[38;5;28mstr\u001B[39m(e),\n\u001B[1;32m    223\u001B[0m     )\n",
      "File \u001B[0;32m/opt/homebrew/Caskroom/miniforge/base/lib/python3.9/site-packages/sklearn/metrics/_ranking.py:1979\u001B[0m, in \u001B[0;36mtop_k_accuracy_score\u001B[0;34m(y_true, y_score, k, normalize, sample_weight, labels)\u001B[0m\n\u001B[1;32m   1976\u001B[0m     \u001B[38;5;28;01mraise\u001B[39;00m \u001B[38;5;167;01mValueError\u001B[39;00m(\u001B[38;5;124m\"\u001B[39m\u001B[38;5;124mParameter \u001B[39m\u001B[38;5;124m'\u001B[39m\u001B[38;5;124mlabels\u001B[39m\u001B[38;5;124m'\u001B[39m\u001B[38;5;124m must be ordered.\u001B[39m\u001B[38;5;124m\"\u001B[39m)\n\u001B[1;32m   1978\u001B[0m \u001B[38;5;28;01mif\u001B[39;00m n_classes \u001B[38;5;241m!=\u001B[39m y_score_n_classes:\n\u001B[0;32m-> 1979\u001B[0m     \u001B[38;5;28;01mraise\u001B[39;00m \u001B[38;5;167;01mValueError\u001B[39;00m(\n\u001B[1;32m   1980\u001B[0m         \u001B[38;5;124mf\u001B[39m\u001B[38;5;124m\"\u001B[39m\u001B[38;5;124mNumber of given labels (\u001B[39m\u001B[38;5;132;01m{\u001B[39;00mn_classes\u001B[38;5;132;01m}\u001B[39;00m\u001B[38;5;124m) not equal to the \u001B[39m\u001B[38;5;124m\"\u001B[39m\n\u001B[1;32m   1981\u001B[0m         \u001B[38;5;124mf\u001B[39m\u001B[38;5;124m\"\u001B[39m\u001B[38;5;124mnumber of classes in \u001B[39m\u001B[38;5;124m'\u001B[39m\u001B[38;5;124my_score\u001B[39m\u001B[38;5;124m'\u001B[39m\u001B[38;5;124m (\u001B[39m\u001B[38;5;132;01m{\u001B[39;00my_score_n_classes\u001B[38;5;132;01m}\u001B[39;00m\u001B[38;5;124m).\u001B[39m\u001B[38;5;124m\"\u001B[39m\n\u001B[1;32m   1982\u001B[0m     )\n\u001B[1;32m   1984\u001B[0m \u001B[38;5;28;01mif\u001B[39;00m \u001B[38;5;28mlen\u001B[39m(np\u001B[38;5;241m.\u001B[39msetdiff1d(y_true, classes)):\n\u001B[1;32m   1985\u001B[0m     \u001B[38;5;28;01mraise\u001B[39;00m \u001B[38;5;167;01mValueError\u001B[39;00m(\u001B[38;5;124m\"\u001B[39m\u001B[38;5;124m'\u001B[39m\u001B[38;5;124my_true\u001B[39m\u001B[38;5;124m'\u001B[39m\u001B[38;5;124m contains labels not in parameter \u001B[39m\u001B[38;5;124m'\u001B[39m\u001B[38;5;124mlabels\u001B[39m\u001B[38;5;124m'\u001B[39m\u001B[38;5;124m.\u001B[39m\u001B[38;5;124m\"\u001B[39m)\n",
      "\u001B[0;31mValueError\u001B[0m: Number of given labels (215) not equal to the number of classes in 'y_score' (2829)."
     ]
    }
   ],
   "source": [
    "from utils.matadata_processing import predict_with_features\n",
    "\n",
    "preds, preds_raw, GT_lbls, seen_features = predict_with_features(model, test_loader, device)\n",
    "\n",
    "vanilla_f1 = f1_score(test_df[TARGET_FEATURE], preds, average='macro')\n",
    "vanilla_accuracy = accuracy_score(test_df[TARGET_FEATURE], preds)\n",
    "print('Vanilla:', vanilla_f1, vanilla_accuracy)\n",
    "vanilla_recall_3 = top_k_accuracy_score(test_df[TARGET_FEATURE], preds_raw, k=3, labels=labels)\n",
    "vanilla_recall_5 = top_k_accuracy_score(test_df[TARGET_FEATURE], preds_raw, k=5, labels=labels)\n",
    "vanilla_recall_10 = top_k_accuracy_score(test_df[TARGET_FEATURE], preds_raw, k=10, labels=labels)\n",
    "\n",
    "print('Vanilla:', vanilla_f1, vanilla_accuracy, vanilla_recall_3, vanilla_recall_5, vanilla_recall_10)"
   ]
  },
  {
   "cell_type": "markdown",
   "source": [
    "### Average image predictions to get an observation prediction"
   ],
   "metadata": {
    "collapsed": false
   },
   "id": "3bebfb3e98646220"
  },
  {
   "cell_type": "code",
   "execution_count": 18,
   "id": "923847f4-200e-44f6-922c-11d5e2736518",
   "metadata": {
    "tags": [],
    "ExecuteTime": {
     "end_time": "2024-08-16T20:02:03.194866Z",
     "start_time": "2024-08-16T20:02:02.827250Z"
    }
   },
   "outputs": [
    {
     "name": "stdout",
     "output_type": "stream",
     "text": [
      "ObservationID: 0.560897894238223 0.8102422439439014\n"
     ]
    }
   ],
   "source": [
    "seen_observation_ids = np.array(seen_features[\"observationID\"])\n",
    "unique_observation_ids = np.unique(seen_observation_ids)\n",
    "\n",
    "preds_raw_np = np.array(preds_raw)\n",
    "\n",
    "obs_preds_raw = np.zeros((len(test_df), N_CLASSES))\n",
    "obs_preds = np.zeros((len(test_df)))\n",
    "\n",
    "for unique_observation_id in unique_observation_ids:\n",
    "    same_observation_indexes = np.where(seen_observation_ids == unique_observation_id)\n",
    "    \n",
    "    observation_predictions = preds_raw_np[same_observation_indexes]\n",
    "    _obs_preds = np.average(observation_predictions, axis=0)\n",
    "    obs_preds_raw[same_observation_indexes] = _obs_preds\n",
    "    obs_preds[same_observation_indexes] = _obs_preds.argmax()\n",
    "    \n",
    "obs_f1 = f1_score(test_df[TARGET_FEATURE], obs_preds, average='macro')\n",
    "obs_accuracy = accuracy_score(test_df[TARGET_FEATURE], obs_preds)\n",
    "obs_recall_3 = top_k_accuracy_score(test_df[TARGET_FEATURE], obs_preds_raw, k=3, labels=labels)\n",
    "\n",
    "# print('ObservationID:', obs_f1, obs_accuracy, obs_recall_3)\n",
    "print('ObservationID:', obs_f1, obs_accuracy)\n",
    "\n",
    "if USE_OBSERVATION_PREDS:\n",
    "    vanilla_f1 = obs_f1\n",
    "    vanilla_accuracy = obs_accuracy\n",
    "    vanilla_recall_3 = obs_recall_3\n",
    "    preds_raw = obs_preds_raw\n"
   ]
  },
  {
   "cell_type": "markdown",
   "id": "91e35c4f-787b-4fcd-868b-ec6e2aa483da",
   "metadata": {},
   "source": [
    "## Weighting by each Selected Feature"
   ]
  },
  {
   "cell_type": "code",
   "execution_count": 19,
   "id": "39b4c66f-7c51-417d-80ee-4aab02f8fdc9",
   "metadata": {
    "tags": [],
    "ExecuteTime": {
     "end_time": "2024-08-16T20:02:17.933213Z",
     "start_time": "2024-08-16T20:02:03.195190Z"
    }
   },
   "outputs": [
    {
     "name": "stderr",
     "output_type": "stream",
     "text": [
      "100%|██████████| 9412/9412 [00:03<00:00, 2710.14it/s]\n"
     ]
    },
    {
     "name": "stdout",
     "output_type": "stream",
     "text": [
      "habitat: 0.474801004047195 0.7172758181045474 0.8764343391415215\n",
      "habitat dif: 0.04 2.27 2.0\n"
     ]
    },
    {
     "name": "stderr",
     "output_type": "stream",
     "text": [
      "100%|██████████| 9412/9412 [00:03<00:00, 2657.99it/s]\n"
     ]
    },
    {
     "name": "stdout",
     "output_type": "stream",
     "text": [
      "month: 0.4458260616694827 0.703251168720782 0.8590097747556311\n",
      "month dif: 0.011 0.87 1.0\n"
     ]
    },
    {
     "name": "stderr",
     "output_type": "stream",
     "text": [
      "100%|██████████| 9412/9412 [00:03<00:00, 2703.67it/s]\n"
     ]
    },
    {
     "name": "stdout",
     "output_type": "stream",
     "text": [
      "substrate: 0.4585104761407215 0.7060135996600085 0.8623034424139396\n",
      "substrate dif: 0.023 1.15 1.0\n"
     ]
    },
    {
     "name": "stderr",
     "output_type": "stream",
     "text": [
      "100%|██████████| 9412/9412 [00:03<00:00, 2694.40it/s]\n"
     ]
    },
    {
     "name": "stdout",
     "output_type": "stream",
     "text": [
      "metaSubstrate: 0.45035787002378763 0.7033574160645983 0.8596472588185295\n",
      "metaSubstrate dif: 0.015 0.88 1.0\n"
     ]
    }
   ],
   "source": [
    "from utils.matadata_processing  import weight_predictions_by_feature_distribution\n",
    "\n",
    "def post_process_selected_features(metadata_distributions, class_distribution, raw_predictions, ground_truth_labels):\n",
    "    feature_prior_ratios = {}\n",
    "    metrics_by_features = {}\n",
    "    for feature in SELECTED_FEATURES:\n",
    "        metadata_distribution = metadata_distributions[feature]\n",
    "        seen_feature_values = seen_features[feature]\n",
    "\n",
    "        weighted_predictions, weighted_predictions_raw, feature_prior_ratio = weight_predictions_by_feature_distribution(\n",
    "            target_to_feature_conditional_distributions=metadata_distribution,\n",
    "            target_distribution=class_distribution,\n",
    "            ground_truth_labels=ground_truth_labels,\n",
    "            raw_predictions=raw_predictions,\n",
    "            ground_truth_feature_categories=seen_feature_values\n",
    "        )\n",
    "        feature_prior_ratios[feature] = feature_prior_ratio\n",
    "\n",
    "        f1 = f1_score(test_df[TARGET_FEATURE], weighted_predictions, average='macro')\n",
    "        accuracy = accuracy_score(test_df[TARGET_FEATURE], weighted_predictions)\n",
    "        recall_3 = top_k_accuracy_score(test_df[TARGET_FEATURE], weighted_predictions_raw, k=3, labels=labels)\n",
    "        metrics_by_features[feature] = {\n",
    "            \"f1\": f1,\n",
    "            \"accuracy\": accuracy,\n",
    "            \"recall_3\": recall_3\n",
    "        }\n",
    "        print(f'{feature}:', f1, accuracy, recall_3)\n",
    "\n",
    "        print(f'{feature} dif:', np.around(f1-vanilla_f1, 3), np.around((accuracy-vanilla_accuracy) * 100, 2), np.around((recall_3-vanilla_recall_3)*100))\n",
    "        \n",
    "\n",
    "    \n",
    "    return feature_prior_ratios, metrics_by_features\n",
    "        \n",
    "feature_prior_ratios, metrics_by_features = post_process_selected_features(\n",
    "    metadata_distributions=metadata_distributions,\n",
    "    class_distribution=class_distribution,\n",
    "    raw_predictions=preds_raw,\n",
    "    ground_truth_labels=GT_lbls\n",
    ")"
   ]
  },
  {
   "cell_type": "markdown",
   "id": "97662dea-8eb6-4bd2-8372-d247ecdbcf5a",
   "metadata": {},
   "source": [
    "## Weighting by Combinations of Selected Features"
   ]
  },
  {
   "cell_type": "code",
   "execution_count": 24,
   "id": "a71b7a56-6592-49e1-8b3b-9a0fa61e4afd",
   "metadata": {
    "tags": [],
    "ExecuteTime": {
     "end_time": "2024-08-16T20:03:58.650285Z",
     "start_time": "2024-08-16T20:03:28.067131Z"
    }
   },
   "outputs": [
    {
     "name": "stdout",
     "output_type": "stream",
     "text": [
      "habitat + month\n",
      "F1, Acc, Recall3:  0.49515107947224063 0.7257756056098598 0.8812154696132597\n",
      "Diff:  0.06 3.12 2.73\n",
      "habitat + substrate\n",
      "F1, Acc, Recall3:  0.4937887631435116 0.7243943901402465 0.8825966850828729\n",
      "Diff:  0.059 2.99 2.87\n",
      "habitat + metaSubstrate\n",
      "F1, Acc, Recall3:  0.48604818900337304 0.7214194645133871 0.87972800679983\n",
      "Diff:  0.051 2.69 2.58\n",
      "month + substrate\n",
      "F1, Acc, Recall3:  0.4751674888590399 0.7138759031024224 0.8686782830429239\n",
      "Diff:  0.04 1.93 1.48\n",
      "month + metaSubstrate\n",
      "F1, Acc, Recall3:  0.46748332662556485 0.7102634934126647 0.8651721206969826\n",
      "Diff:  0.032 1.57 1.13\n",
      "substrate + metaSubstrate\n",
      "F1, Acc, Recall3:  0.4620401821328909 0.7065448363790905 0.8615597110072248\n",
      "Diff:  0.027 1.2 0.76\n",
      "habitat + month + substrate\n",
      "F1, Acc, Recall3:  0.5098980874467962 0.7307692307692307 0.888121546961326\n",
      "Diff:  0.075 3.62 3.42\n",
      "habitat + month + metaSubstrate\n",
      "F1, Acc, Recall3:  0.5032994966766682 0.7273693157671058 0.8850403739906503\n",
      "Diff:  0.068 3.28 3.11\n",
      "habitat + substrate + metaSubstrate\n",
      "F1, Acc, Recall3:  0.48999213869514335 0.7243943901402465 0.883127921801955\n",
      "Diff:  0.055 2.99 2.92\n",
      "month + substrate + metaSubstrate\n",
      "F1, Acc, Recall3:  0.47996791972932534 0.7149383765405865 0.8693157671058224\n",
      "Diff:  0.045 2.04 1.54\n",
      "habitat + month + substrate + metaSubstrate\n",
      "F1, Acc, Recall3:  0.5079805223763812 0.7293880152996175 0.887590310242244\n",
      "Diff:  0.073 3.48 3.37\n"
     ]
    }
   ],
   "source": [
    "from itertools import combinations\n",
    "from utils.matadata_processing import weight_predictions_combined_feature_priors\n",
    "\n",
    "\n",
    "def post_process_prior_combinations(raw_predictions, feature_prior_ratios):\n",
    "    metrics_by_combination = {}\n",
    "    all_combinations_selected_features = []\n",
    "    for num_features in range(2, len(SELECTED_FEATURES) + 1):\n",
    "        all_combinations_selected_features.extend(combinations(SELECTED_FEATURES, num_features))\n",
    "    \n",
    "    for combination in all_combinations_selected_features:\n",
    "\n",
    "        selected_feature_prior_ratios = [feature_prior_ratios[feature] for feature in combination]\n",
    "\n",
    "        merged_predictions, merged_predictions_raw = weight_predictions_combined_feature_priors(\n",
    "            raw_predictions=raw_predictions,\n",
    "            feature_prior_ratios=selected_feature_prior_ratios\n",
    "        )\n",
    "\n",
    "        f1 = f1_score(test_df[TARGET_FEATURE], merged_predictions, average='macro')\n",
    "        accuracy = accuracy_score(test_df[TARGET_FEATURE], merged_predictions)\n",
    "        recall_3 = top_k_accuracy_score(test_df[TARGET_FEATURE], merged_predictions_raw, k=3, labels=labels)\n",
    "        \n",
    "        combination_name = \" + \".join(combination)\n",
    "        \n",
    "        metrics_by_combination[combination_name] = {\n",
    "            \"f1\": f1,\n",
    "            \"accuracy\": accuracy,\n",
    "            \"recall_3\": recall_3\n",
    "        }\n",
    "        print(combination_name)\n",
    "        print(\"F1, Acc, Recall3: \", f1, accuracy, recall_3)\n",
    "\n",
    "        print(\"Diff: \", np.around(f1-vanilla_f1, 3), np.around((accuracy-vanilla_accuracy) * 100, 2), np.around((recall_3-vanilla_recall_3)*100, 2))\n",
    "    \n",
    "    return metrics_by_combination\n",
    "        \n",
    "metrics_by_combination = post_process_prior_combinations(\n",
    "    raw_predictions=preds_raw,\n",
    "    feature_prior_ratios=feature_prior_ratios\n",
    ")"
   ]
  },
  {
   "cell_type": "code",
   "execution_count": 27,
   "id": "7fd261d5-1757-4b56-ab7c-787058e719f8",
   "metadata": {
    "tags": [],
    "ExecuteTime": {
     "end_time": "2024-08-16T20:05:47.243525Z",
     "start_time": "2024-08-16T20:05:47.205667Z"
    }
   },
   "outputs": [
    {
     "data": {
      "text/plain": "                                             accuracy        f1  recall_3\nVanilla                                      0.694539  0.435252  0.853910\nObservationID                                0.810242  0.560898  0.932214\nhabitat                                      0.717276  0.474801  0.876434\nmonth                                        0.703251  0.445826  0.859010\nsubstrate                                    0.706014  0.458510  0.862303\nmetaSubstrate                                0.703357  0.450358  0.859647\nhabitat + month                              0.725776  0.495151  0.881215\nhabitat + substrate                          0.724394  0.493789  0.882597\nhabitat + metaSubstrate                      0.721419  0.486048  0.879728\nmonth + substrate                            0.713876  0.475167  0.868678\nmonth + metaSubstrate                        0.710263  0.467483  0.865172\nsubstrate + metaSubstrate                    0.706545  0.462040  0.861560\nhabitat + month + substrate                  0.730769  0.509898  0.888122\nhabitat + month + metaSubstrate              0.727369  0.503299  0.885040\nhabitat + substrate + metaSubstrate          0.724394  0.489992  0.883128\nmonth + substrate + metaSubstrate            0.714938  0.479968  0.869316\nhabitat + month + substrate + metaSubstrate  0.729388  0.507981  0.887590",
      "text/html": "<div>\n<style scoped>\n    .dataframe tbody tr th:only-of-type {\n        vertical-align: middle;\n    }\n\n    .dataframe tbody tr th {\n        vertical-align: top;\n    }\n\n    .dataframe thead th {\n        text-align: right;\n    }\n</style>\n<table border=\"1\" class=\"dataframe\">\n  <thead>\n    <tr style=\"text-align: right;\">\n      <th></th>\n      <th>accuracy</th>\n      <th>f1</th>\n      <th>recall_3</th>\n    </tr>\n  </thead>\n  <tbody>\n    <tr>\n      <th>Vanilla</th>\n      <td>0.694539</td>\n      <td>0.435252</td>\n      <td>0.853910</td>\n    </tr>\n    <tr>\n      <th>ObservationID</th>\n      <td>0.810242</td>\n      <td>0.560898</td>\n      <td>0.932214</td>\n    </tr>\n    <tr>\n      <th>habitat</th>\n      <td>0.717276</td>\n      <td>0.474801</td>\n      <td>0.876434</td>\n    </tr>\n    <tr>\n      <th>month</th>\n      <td>0.703251</td>\n      <td>0.445826</td>\n      <td>0.859010</td>\n    </tr>\n    <tr>\n      <th>substrate</th>\n      <td>0.706014</td>\n      <td>0.458510</td>\n      <td>0.862303</td>\n    </tr>\n    <tr>\n      <th>metaSubstrate</th>\n      <td>0.703357</td>\n      <td>0.450358</td>\n      <td>0.859647</td>\n    </tr>\n    <tr>\n      <th>habitat + month</th>\n      <td>0.725776</td>\n      <td>0.495151</td>\n      <td>0.881215</td>\n    </tr>\n    <tr>\n      <th>habitat + substrate</th>\n      <td>0.724394</td>\n      <td>0.493789</td>\n      <td>0.882597</td>\n    </tr>\n    <tr>\n      <th>habitat + metaSubstrate</th>\n      <td>0.721419</td>\n      <td>0.486048</td>\n      <td>0.879728</td>\n    </tr>\n    <tr>\n      <th>month + substrate</th>\n      <td>0.713876</td>\n      <td>0.475167</td>\n      <td>0.868678</td>\n    </tr>\n    <tr>\n      <th>month + metaSubstrate</th>\n      <td>0.710263</td>\n      <td>0.467483</td>\n      <td>0.865172</td>\n    </tr>\n    <tr>\n      <th>substrate + metaSubstrate</th>\n      <td>0.706545</td>\n      <td>0.462040</td>\n      <td>0.861560</td>\n    </tr>\n    <tr>\n      <th>habitat + month + substrate</th>\n      <td>0.730769</td>\n      <td>0.509898</td>\n      <td>0.888122</td>\n    </tr>\n    <tr>\n      <th>habitat + month + metaSubstrate</th>\n      <td>0.727369</td>\n      <td>0.503299</td>\n      <td>0.885040</td>\n    </tr>\n    <tr>\n      <th>habitat + substrate + metaSubstrate</th>\n      <td>0.724394</td>\n      <td>0.489992</td>\n      <td>0.883128</td>\n    </tr>\n    <tr>\n      <th>month + substrate + metaSubstrate</th>\n      <td>0.714938</td>\n      <td>0.479968</td>\n      <td>0.869316</td>\n    </tr>\n    <tr>\n      <th>habitat + month + substrate + metaSubstrate</th>\n      <td>0.729388</td>\n      <td>0.507981</td>\n      <td>0.887590</td>\n    </tr>\n  </tbody>\n</table>\n</div>"
     },
     "execution_count": 27,
     "metadata": {},
     "output_type": "execute_result"
    }
   ],
   "source": [
    "results = {\n",
    "    \"Vanilla\":       {'f1': vanilla_f1, 'accuracy': vanilla_accuracy, 'recall_3': vanilla_recall_3},\n",
    "    \"ObservationID\": {'f1': obs_f1, 'accuracy': obs_accuracy, 'recall_3': obs_recall_3}\n",
    "}\n",
    "\n",
    "results.update(metrics_by_features)\n",
    "results.update(metrics_by_combination)\n",
    "\n",
    "results_df = pd.DataFrame(results).transpose()\n",
    "results_df = results_df[['accuracy', 'f1', 'recall_3']]\n",
    "results_df.head(50)"
   ]
  },
  {
   "cell_type": "code",
   "outputs": [
    {
     "data": {
      "text/plain": "                                              accuracy         f1  recall_3\nVanilla                                       0.000000   0.000000  0.000000\nObservationID                                11.570336  12.564606  7.830429\nhabitat                                       2.273693   3.954917  2.252444\nmonth                                         0.871228   1.057423  0.509987\nsubstrate                                     1.147471   2.325865  0.839354\nmetaSubstrate                                 0.881853   1.510604  0.573736\nhabitat + month                               3.123672   5.989925  2.730557\nhabitat + substrate                           2.985550   5.853693  2.868678\nhabitat + metaSubstrate                       2.688058   5.079636  2.581810\nmonth + substrate                             1.933702   3.991566  1.476838\nmonth + metaSubstrate                         1.572461   3.223150  1.126222\nsubstrate + metaSubstrate                     1.200595   2.678835  0.764981\nhabitat + month + substrate                   3.623034   7.464626  3.421164\nhabitat + month + metaSubstrate               3.283043   6.804767  3.113047\nhabitat + substrate + metaSubstrate           2.985550   5.474031  2.921802\nmonth + substrate + metaSubstrate             2.039949   4.471609  1.540586\nhabitat + month + substrate + metaSubstrate   3.484913   7.272869  3.368041",
      "text/html": "<div>\n<style scoped>\n    .dataframe tbody tr th:only-of-type {\n        vertical-align: middle;\n    }\n\n    .dataframe tbody tr th {\n        vertical-align: top;\n    }\n\n    .dataframe thead th {\n        text-align: right;\n    }\n</style>\n<table border=\"1\" class=\"dataframe\">\n  <thead>\n    <tr style=\"text-align: right;\">\n      <th></th>\n      <th>accuracy</th>\n      <th>f1</th>\n      <th>recall_3</th>\n    </tr>\n  </thead>\n  <tbody>\n    <tr>\n      <th>Vanilla</th>\n      <td>0.000000</td>\n      <td>0.000000</td>\n      <td>0.000000</td>\n    </tr>\n    <tr>\n      <th>ObservationID</th>\n      <td>11.570336</td>\n      <td>12.564606</td>\n      <td>7.830429</td>\n    </tr>\n    <tr>\n      <th>habitat</th>\n      <td>2.273693</td>\n      <td>3.954917</td>\n      <td>2.252444</td>\n    </tr>\n    <tr>\n      <th>month</th>\n      <td>0.871228</td>\n      <td>1.057423</td>\n      <td>0.509987</td>\n    </tr>\n    <tr>\n      <th>substrate</th>\n      <td>1.147471</td>\n      <td>2.325865</td>\n      <td>0.839354</td>\n    </tr>\n    <tr>\n      <th>metaSubstrate</th>\n      <td>0.881853</td>\n      <td>1.510604</td>\n      <td>0.573736</td>\n    </tr>\n    <tr>\n      <th>habitat + month</th>\n      <td>3.123672</td>\n      <td>5.989925</td>\n      <td>2.730557</td>\n    </tr>\n    <tr>\n      <th>habitat + substrate</th>\n      <td>2.985550</td>\n      <td>5.853693</td>\n      <td>2.868678</td>\n    </tr>\n    <tr>\n      <th>habitat + metaSubstrate</th>\n      <td>2.688058</td>\n      <td>5.079636</td>\n      <td>2.581810</td>\n    </tr>\n    <tr>\n      <th>month + substrate</th>\n      <td>1.933702</td>\n      <td>3.991566</td>\n      <td>1.476838</td>\n    </tr>\n    <tr>\n      <th>month + metaSubstrate</th>\n      <td>1.572461</td>\n      <td>3.223150</td>\n      <td>1.126222</td>\n    </tr>\n    <tr>\n      <th>substrate + metaSubstrate</th>\n      <td>1.200595</td>\n      <td>2.678835</td>\n      <td>0.764981</td>\n    </tr>\n    <tr>\n      <th>habitat + month + substrate</th>\n      <td>3.623034</td>\n      <td>7.464626</td>\n      <td>3.421164</td>\n    </tr>\n    <tr>\n      <th>habitat + month + metaSubstrate</th>\n      <td>3.283043</td>\n      <td>6.804767</td>\n      <td>3.113047</td>\n    </tr>\n    <tr>\n      <th>habitat + substrate + metaSubstrate</th>\n      <td>2.985550</td>\n      <td>5.474031</td>\n      <td>2.921802</td>\n    </tr>\n    <tr>\n      <th>month + substrate + metaSubstrate</th>\n      <td>2.039949</td>\n      <td>4.471609</td>\n      <td>1.540586</td>\n    </tr>\n    <tr>\n      <th>habitat + month + substrate + metaSubstrate</th>\n      <td>3.484913</td>\n      <td>7.272869</td>\n      <td>3.368041</td>\n    </tr>\n  </tbody>\n</table>\n</div>"
     },
     "execution_count": 30,
     "metadata": {},
     "output_type": "execute_result"
    }
   ],
   "source": [
    "(results_df - results_df.iloc[0, :]) * 100"
   ],
   "metadata": {
    "collapsed": false,
    "ExecuteTime": {
     "end_time": "2024-08-16T20:08:25.497279Z",
     "start_time": "2024-08-16T20:08:25.437415Z"
    }
   },
   "id": "6f6456f9979944a5",
   "execution_count": 30
  },
  {
   "cell_type": "code",
   "outputs": [
    {
     "data": {
      "text/plain": "accuracy    0.810242\nf1          0.560898\nName: Vanilla, dtype: float64"
     },
     "execution_count": 18,
     "metadata": {},
     "output_type": "execute_result"
    }
   ],
   "source": [
    "results_df.iloc[0, :]"
   ],
   "metadata": {
    "collapsed": false,
    "ExecuteTime": {
     "end_time": "2024-08-16T17:43:11.305590Z",
     "start_time": "2024-08-16T17:43:11.276352Z"
    }
   },
   "id": "2e92a87e0b27f09f",
   "execution_count": 18
  },
  {
   "cell_type": "code",
   "execution_count": 49,
   "outputs": [
    {
     "name": "stderr",
     "output_type": "stream",
     "text": [
      "  0%|          | 0/1401 [00:00<?, ?it/s]INFO:albumentations.check_version:A new version of Albumentations is available: 1.4.14 (you have 1.4.13). Upgrade using: pip install -U albumentations. To disable automatic update checks, set the environment variable NO_ALBUMENTATIONS_UPDATE to 1.\n",
      "INFO:albumentations.check_version:A new version of Albumentations is available: 1.4.14 (you have 1.4.13). Upgrade using: pip install -U albumentations. To disable automatic update checks, set the environment variable NO_ALBUMENTATIONS_UPDATE to 1.\n",
      "INFO:albumentations.check_version:A new version of Albumentations is available: 1.4.14 (you have 1.4.13). Upgrade using: pip install -U albumentations. To disable automatic update checks, set the environment variable NO_ALBUMENTATIONS_UPDATE to 1.\n",
      "INFO:albumentations.check_version:A new version of Albumentations is available: 1.4.14 (you have 1.4.13). Upgrade using: pip install -U albumentations. To disable automatic update checks, set the environment variable NO_ALBUMENTATIONS_UPDATE to 1.\n",
      "INFO:albumentations.check_version:A new version of Albumentations is available: 1.4.14 (you have 1.4.13). Upgrade using: pip install -U albumentations. To disable automatic update checks, set the environment variable NO_ALBUMENTATIONS_UPDATE to 1.\n",
      "INFO:albumentations.check_version:A new version of Albumentations is available: 1.4.14 (you have 1.4.13). Upgrade using: pip install -U albumentations. To disable automatic update checks, set the environment variable NO_ALBUMENTATIONS_UPDATE to 1.\n",
      "INFO:albumentations.check_version:A new version of Albumentations is available: 1.4.14 (you have 1.4.13). Upgrade using: pip install -U albumentations. To disable automatic update checks, set the environment variable NO_ALBUMENTATIONS_UPDATE to 1.\n",
      "INFO:albumentations.check_version:A new version of Albumentations is available: 1.4.14 (you have 1.4.13). Upgrade using: pip install -U albumentations. To disable automatic update checks, set the environment variable NO_ALBUMENTATIONS_UPDATE to 1.\n",
      "  8%|▊         | 106/1401 [01:47<18:37,  1.16it/s]Exception ignored in: <function _MultiProcessingDataLoaderIter.__del__ at 0x1332d9c10>\n",
      "Traceback (most recent call last):\n",
      "  File \"/opt/homebrew/Caskroom/miniforge/base/lib/python3.9/site-packages/torch/utils/data/dataloader.py\", line 1477, in __del__\n",
      "    self._shutdown_workers()\n",
      "  File \"/opt/homebrew/Caskroom/miniforge/base/lib/python3.9/site-packages/torch/utils/data/dataloader.py\", line 1441, in _shutdown_workers\n",
      "    w.join(timeout=_utils.MP_STATUS_CHECK_INTERVAL)\n",
      "  File \"/opt/homebrew/Caskroom/miniforge/base/lib/python3.9/multiprocessing/process.py\", line 149, in join\n",
      "    res = self._popen.wait(timeout)\n",
      "  File \"/opt/homebrew/Caskroom/miniforge/base/lib/python3.9/multiprocessing/popen_fork.py\", line 40, in wait\n",
      "    if not wait([self.sentinel], timeout):\n",
      "  File \"/opt/homebrew/Caskroom/miniforge/base/lib/python3.9/multiprocessing/connection.py\", line 936, in wait\n",
      "Process Process-96:\n",
      "Process Process-95:\n",
      "Process Process-94:\n",
      "Process Process-88:\n",
      "Process Process-86:\n",
      "Process Process-87:\n",
      "Process Process-81:\n",
      "Process Process-25:\n",
      "Process Process-82:\n",
      "Process Process-30:\n",
      "Process Process-85:\n",
      "Process Process-32:\n",
      "Process Process-29:\n",
      "Process Process-26:\n",
      "Process Process-31:\n",
      "    ready = selector.select(timeout)\n",
      "  File \"/opt/homebrew/Caskroom/miniforge/base/lib/python3.9/selectors.py\", line 416, in select\n",
      "KeyboardInterrupt: \n",
      "  8%|▊         | 106/1401 [01:48<22:08,  1.03s/it]Traceback (most recent call last):\n"
     ]
    },
    {
     "name": "stdout",
     "output_type": "stream",
     "text": [
      "Unexpected exception formatting exception. Falling back to standard exception\n"
     ]
    },
    {
     "name": "stderr",
     "output_type": "stream",
     "text": [
      "  File \"/opt/homebrew/Caskroom/miniforge/base/lib/python3.9/multiprocessing/process.py\", line 318, in _bootstrap\n",
      "    util._exit_function()\n",
      "  File \"/opt/homebrew/Caskroom/miniforge/base/lib/python3.9/multiprocessing/util.py\", line 360, in _exit_function\n",
      "    _run_finalizers()\n",
      "  File \"/opt/homebrew/Caskroom/miniforge/base/lib/python3.9/multiprocessing/util.py\", line 300, in _run_finalizers\n",
      "    finalizer()\n",
      "  File \"/opt/homebrew/Caskroom/miniforge/base/lib/python3.9/multiprocessing/util.py\", line 224, in __call__\n",
      "    res = self._callback(*self._args, **self._kwargs)\n",
      "  File \"/opt/homebrew/Caskroom/miniforge/base/lib/python3.9/multiprocessing/queues.py\", line 201, in _finalize_join\n",
      "    thread.join()\n",
      "  File \"/opt/homebrew/Caskroom/miniforge/base/lib/python3.9/threading.py\", line 1053, in join\n",
      "    self._wait_for_tstate_lock()\n",
      "  File \"/opt/homebrew/Caskroom/miniforge/base/lib/python3.9/threading.py\", line 1069, in _wait_for_tstate_lock\n",
      "    elif lock.acquire(block, timeout):\n",
      "KeyboardInterrupt\n",
      "Tra\n",
      "ceback (most recent call last):\n",
      "  File \"/opt/homebrew/Caskroom/miniforge/base/lib/python3.9/multiprocessing/process.py\", line 318, in _bootstrap\n",
      "    util._exit_function()\n",
      "  File \"/opt/homebrew/Caskroom/miniforge/base/lib/python3.9/multiprocessing/util.py\", line 360, in _exit_function\n",
      "    _run_finalizers()\n",
      "  File \"/opt/homebrew/Caskroom/miniforge/base/lib/python3.9/multiprocessing/util.py\", line 300, in _run_finalizers\n",
      "    finalizer()\n",
      "  File \"/opt/homebrew/Caskroom/miniforge/base/lib/python3.9/multiprocessing/util.py\", line 224, in __call__\n",
      "    res = self._callback(*self._args, **self._kwargs)\n",
      "  File \"/opt/homebrew/Caskroom/miniforge/base/lib/python3.9/multiprocessing/queues.py\", line 201, in _finalize_join\n",
      "    thread.join()\n",
      "  File \"/opt/homebrew/Caskroom/miniforge/base/lib/python3.9/threading.py\", line 1053, in join\n",
      "    self._wait_for_tstate_lock()\n",
      "  File \"/opt/homebrew/Caskroom/miniforge/base/lib/python3.9/threading.py\", line 1069, in _wait_for_tstate_lock\n",
      "    elif lock.acquire(block, timeout):\n",
      "KeyboardInterrupt\n",
      "Traceback (most recent call last):\n",
      "  File \"/opt/homebrew/Caskroom/miniforge/base/lib/python3.9/multiprocessing/process.py\", line 318, in _bootstrap\n",
      "    util._exit_function()\n",
      "  File \"/opt/homebrew/Caskroom/miniforge/base/lib/python3.9/multiprocessing/util.py\", line 360, in _exit_function\n",
      "    _run_finalizers()\n",
      "  File \"/opt/homebrew/Caskroom/miniforge/base/lib/python3.9/multiprocessing/util.py\", line 300, in _run_finalizers\n",
      "    finalizer()\n",
      "  File \"/opt/homebrew/Caskroom/miniforge/base/lib/python3.9/multiprocessing/util.py\", line 224, in __call__\n",
      "    res = self._callback(*self._args, **self._kwargs)\n",
      "  File \"/opt/homebrew/Caskroom/miniforge/base/lib/python3.9/multiprocessing/queues.py\", line 201, in _finalize_join\n",
      "    thread.join()\n",
      "  File \"/opt/homebrew/Caskroom/miniforge/base/lib/python3.9/threading.py\", line 1053, in join\n",
      "    self._wait_for_tstate_lock()\n",
      "  File \"/opt/homebrew/Caskroom/miniforge/base/lib/python3.9/threading.py\", line 1069, in _wait_for_tstate_lock\n",
      "    elif lock.acquire(block, timeout):\n",
      "KeyboardInterrupt\n",
      "Traceback (most recent call last):\n",
      "  File \"/opt/homebrew/Caskroom/miniforge/base/lib/python3.9/multiprocessing/process.py\", line 318, in _bootstrap\n",
      "    util._exit_function()\n",
      "  File \"/opt/homebrew/Caskroom/miniforge/base/lib/python3.9/multiprocessing/util.py\", line 360, in _exit_function\n",
      "    _run_finalizers()\n",
      "  File \"/opt/homebrew/Caskroom/miniforge/base/lib/python3.9/multiprocessing/util.py\", line 300, in _run_finalizers\n",
      "    finalizer()\n",
      "  File \"/opt/homebrew/Caskroom/miniforge/base/lib/python3.9/multiprocessing/util.py\", line 224, in __call__\n",
      "    res = self._callback(*self._args, **self._kwargs)\n",
      "  File \"/opt/homebrew/Caskroom/miniforge/base/lib/python3.9/multiprocessing/queues.py\", line 201, in _finalize_join\n",
      "    thread.join()\n",
      "  File \"/opt/homebrew/Caskroom/miniforge/base/lib/python3.9/threading.py\", line 1053, in join\n",
      "    self._wait_for_tstate_lock()\n",
      "  File \"/opt/homebrew/Caskroom/miniforge/base/lib/python3.9/threading.py\", line 1069, in _wait_for_tstate_lock\n",
      "    elif lock.acquire(block, timeout):\n",
      "KeyboardInterrupt\n",
      "Traceback (most recent call last):\n",
      "  File \"/opt/homebrew/Caskroom/miniforge/base/lib/python3.9/multiprocessing/process.py\", line 318, in _bootstrap\n",
      "    util._exit_function()\n",
      "  File \"/opt/homebrew/Caskroom/miniforge/base/lib/python3.9/multiprocessing/util.py\", line 360, in _exit_function\n",
      "    _run_finalizers()\n",
      "  File \"/opt/homebrew/Caskroom/miniforge/base/lib/python3.9/multiprocessing/util.py\", line 300, in _run_finalizers\n",
      "    finalizer()\n",
      "  File \"/opt/homebrew/Caskroom/miniforge/base/lib/python3.9/multiprocessing/util.py\", line 224, in __call__\n",
      "    res = self._callback(*self._args, **self._kwargs)\n",
      "  File \"/opt/homebrew/Caskroom/miniforge/base/lib/python3.9/multiprocessing/queues.py\", line 201, in _finalize_join\n",
      "    thread.join()\n",
      "  File \"/opt/homebrew/Caskroom/miniforge/base/lib/python3.9/threading.py\", line 1053, in join\n",
      "    self._wait_for_tstate_lock()\n",
      "  File \"/opt/homebrew/Caskroom/miniforge/base/lib/python3.9/threading.py\", line 1069, in _wait_for_tstate_lock\n",
      "    elif lock.acquire(block, timeout):\n",
      "KeyboardInterrupt\n",
      "Traceback (most recent call last):\n",
      "  File \"/opt/homebrew/Caskroom/miniforge/base/lib/python3.9/multiprocessing/process.py\", line 318, in _bootstrap\n",
      "    util._exit_function()\n",
      "  File \"/opt/homebrew/Caskroom/miniforge/base/lib/python3.9/multiprocessing/util.py\", line 360, in _exit_function\n",
      "    _run_finalizers()\n",
      "  File \"/opt/homebrew/Caskroom/miniforge/base/lib/python3.9/multiprocessing/util.py\", line 300, in _run_finalizers\n",
      "    finalizer()\n",
      "  File \"/opt/homebrew/Caskroom/miniforge/base/lib/python3.9/multiprocessing/util.py\", line 224, in __call__\n",
      "    res = self._callback(*self._args, **self._kwargs)\n",
      "  File \"/opt/homebrew/Caskroom/miniforge/base/lib/python3.9/multiprocessing/queues.py\", line 201, in _finalize_join\n",
      "    thread.join()\n",
      "  File \"/opt/homebrew/Caskroom/miniforge/base/lib/python3.9/threading.py\", line 1053, in join\n",
      "    self._wait_for_tstate_lock()\n",
      "  File \"/opt/homebrew/Caskroom/miniforge/base/lib/python3.9/threading.py\", line 1069, in _wait_for_tstate_lock\n",
      "    elif lock.acquire(block, timeout):\n",
      "KeyboardInterrupt\n",
      "Traceback (most recent call last):\n",
      "  File \"/opt/homebrew/Caskroom/miniforge/base/lib/python3.9/multiprocessing/process.py\", line 318, in _bootstrap\n",
      "    util._exit_function()\n",
      "  File \"/opt/homebrew/Caskroom/miniforge/base/lib/python3.9/multiprocessing/util.py\", line 360, in _exit_function\n",
      "    _run_finalizers()\n",
      "  File \"/opt/homebrew/Caskroom/miniforge/base/lib/python3.9/multiprocessing/util.py\", line 300, in _run_finalizers\n",
      "    finalizer()\n",
      "  File \"/opt/homebrew/Caskroom/miniforge/base/lib/python3.9/multiprocessing/util.py\", line 224, in __call__\n",
      "    res = self._callback(*self._args, **self._kwargs)\n",
      "  File \"/opt/homebrew/Caskroom/miniforge/base/lib/python3.9/multiprocessing/queues.py\", line 201, in _finalize_join\n",
      "    thread.join()\n",
      "  File \"/opt/homebrew/Caskroom/miniforge/base/lib/python3.9/threading.py\", line 1053, in join\n",
      "    self._wait_for_tstate_lock()\n",
      "  File \"/opt/homebrew/Caskroom/miniforge/base/lib/python3.9/threading.py\", line 1069, in _wait_for_tstate_lock\n",
      "    elif lock.acquire(block, timeout):\n",
      "KeyboardInterrupt\n",
      "Traceback (most recent call last):\n",
      "  File \"/opt/homebrew/Caskroom/miniforge/base/lib/python3.9/multiprocessing/process.py\", line 318, in _bootstrap\n",
      "    util._exit_function()\n",
      "  File \"/opt/homebrew/Caskroom/miniforge/base/lib/python3.9/multiprocessing/util.py\", line 360, in _exit_function\n",
      "    _run_finalizers()\n",
      "  File \"/opt/homebrew/Caskroom/miniforge/base/lib/python3.9/multiprocessing/util.py\", line 300, in _run_finalizers\n",
      "    finalizer()\n",
      "  File \"/opt/homebrew/Caskroom/miniforge/base/lib/python3.9/multiprocessing/util.py\", line 224, in __call__\n",
      "    res = self._callback(*self._args, **self._kwargs)\n",
      "  File \"/opt/homebrew/Caskroom/miniforge/base/lib/python3.9/multiprocessing/queues.py\", line 201, in _finalize_join\n",
      "    thread.join()\n",
      "  File \"/opt/homebrew/Caskroom/miniforge/base/lib/python3.9/threading.py\", line 1053, in join\n",
      "    self._wait_for_tstate_lock()\n",
      "  File \"/opt/homebrew/Caskroom/miniforge/base/lib/python3.9/threading.py\", line 1069, in _wait_for_tstate_lock\n",
      "    elif lock.acquire(block, timeout):\n",
      "KeyboardInterrupt\n",
      "Traceback (most recent call last):\n",
      "Traceback (most recent call last):\n",
      "  File \"/opt/homebrew/Caskroom/miniforge/base/lib/python3.9/multiprocessing/process.py\", line 318, in _bootstrap\n",
      "    util._exit_function()\n",
      "  File \"/opt/homebrew/Caskroom/miniforge/base/lib/python3.9/multiprocessing/util.py\", line 360, in _exit_function\n",
      "    _run_finalizers()\n",
      "  File \"/opt/homebrew/Caskroom/miniforge/base/lib/python3.9/multiprocessing/util.py\", line 300, in _run_finalizers\n",
      "    finalizer()\n",
      "  File \"/opt/homebrew/Caskroom/miniforge/base/lib/python3.9/multiprocessing/util.py\", line 224, in __call__\n",
      "    res = self._callback(*self._args, **self._kwargs)\n",
      "  File \"/opt/homebrew/Caskroom/miniforge/base/lib/python3.9/multiprocessing/queues.py\", line 201, in _finalize_join\n",
      "    thread.join()\n",
      "  File \"/opt/homebrew/Caskroom/miniforge/base/lib/python3.9/threading.py\", line 1053, in join\n",
      "    self._wait_for_tstate_lock()\n",
      "  File \"/opt/homebrew/Caskroom/miniforge/base/lib/python3.9/threading.py\", line 1069, in _wait_for_tstate_lock\n",
      "    elif lock.acquire(block, timeout):\n",
      "KeyboardInterrupt\n",
      "  File \"/opt/homebrew/Caskroom/miniforge/base/lib/python3.9/multiprocessing/process.py\", line 318, in _bootstrap\n",
      "    util._exit_function()\n",
      "  File \"/opt/homebrew/Caskroom/miniforge/base/lib/python3.9/multiprocessing/util.py\", line 360, in _exit_function\n",
      "    _run_finalizers()\n",
      "  File \"/opt/homebrew/Caskroom/miniforge/base/lib/python3.9/multiprocessing/util.py\", line 300, in _run_finalizers\n",
      "    finalizer()\n",
      "  File \"/opt/homebrew/Caskroom/miniforge/base/lib/python3.9/multiprocessing/util.py\", line 224, in __call__\n",
      "    res = self._callback(*self._args, **self._kwargs)\n",
      "  File \"/opt/homebrew/Caskroom/miniforge/base/lib/python3.9/multiprocessing/queues.py\", line 201, in _finalize_join\n",
      "    thread.join()\n",
      "  File \"/opt/homebrew/Caskroom/miniforge/base/lib/python3.9/threading.py\", line 1053, in join\n",
      "    self._wait_for_tstate_lock()\n",
      "  File \"/opt/homebrew/Caskroom/miniforge/base/lib/python3.9/threading.py\", line 1069, in _wait_for_tstate_lock\n",
      "    elif lock.acquire(block, timeout):\n",
      "KeyboardInterrupt\n",
      "Traceback (most recent call last):\n",
      "  File \"/opt/homebrew/Caskroom/miniforge/base/lib/python3.9/multiprocessing/process.py\", line 318, in _bootstrap\n",
      "    util._exit_function()\n",
      "  File \"/opt/homebrew/Caskroom/miniforge/base/lib/python3.9/multiprocessing/util.py\", line 360, in _exit_function\n",
      "    _run_finalizers()\n",
      "  File \"/opt/homebrew/Caskroom/miniforge/base/lib/python3.9/multiprocessing/util.py\", line 300, in _run_finalizers\n",
      "    finalizer()\n",
      "  File \"/opt/homebrew/Caskroom/miniforge/base/lib/python3.9/multiprocessing/util.py\", line 224, in __call__\n",
      "    res = self._callback(*self._args, **self._kwargs)\n",
      "  File \"/opt/homebrew/Caskroom/miniforge/base/lib/python3.9/multiprocessing/queues.py\", line 201, in _finalize_join\n",
      "    thread.join()\n",
      "  File \"/opt/homebrew/Caskroom/miniforge/base/lib/python3.9/threading.py\", line 1053, in join\n",
      "    self._wait_for_tstate_lock()\n",
      "  File \"/opt/homebrew/Caskroom/miniforge/base/lib/python3.9/threading.py\", line 1069, in _wait_for_tstate_lock\n",
      "    elif lock.acquire(block, timeout):\n",
      "KeyboardInterrupt\n",
      "Traceback (most recent call last):\n",
      "  File \"/opt/homebrew/Caskroom/miniforge/base/lib/python3.9/site-packages/IPython/core/interactiveshell.py\", line 3526, in run_code\n",
      "    exec(code_obj, self.user_global_ns, self.user_ns)\n",
      "  File \"/var/folders/dk/gk7swfzx4vv6793v1g7wcl680000gn/T/ipykernel_14428/3288953809.py\", line 3, in <module>\n",
      "    results = late_metadata_fusion(\n",
      "  File \"/Users/lukaspicek/Documents/FungiTastic/inference/utils/matadata_processing.py\", line 61, in late_metadata_fusion\n",
      "    ) = predict_with_features(model, dataloader, device)\n",
      "  File \"/Users/lukaspicek/Documents/FungiTastic/inference/utils/matadata_processing.py\", line 190, in predict_with_features\n",
      "    predictions[start_idx:end_idx] = y_preds.argmax(1).cpu().numpy()\n",
      "KeyboardInterrupt\n",
      "\n",
      "During handling of the above exception, another exception occurred:\n",
      "\n",
      "Traceback (most recent call last):\n",
      "  File \"/opt/homebrew/Caskroom/miniforge/base/lib/python3.9/site-packages/IPython/core/interactiveshell.py\", line 2120, in showtraceback\n",
      "    stb = self.InteractiveTB.structured_traceback(\n",
      "  File \"/opt/homebrew/Caskroom/miniforge/base/lib/python3.9/site-packages/IPython/core/ultratb.py\", line 1435, in structured_traceback\n",
      "    return FormattedTB.structured_traceback(\n",
      "  File \"/opt/homebrew/Caskroom/miniforge/base/lib/python3.9/site-packages/IPython/core/ultratb.py\", line 1326, in structured_traceback\n",
      "    return VerboseTB.structured_traceback(\n",
      "  File \"/opt/homebrew/Caskroom/miniforge/base/lib/python3.9/site-packages/IPython/core/ultratb.py\", line 1173, in structured_traceback\n",
      "    formatted_exception = self.format_exception_as_a_whole(etype, evalue, etb, number_of_lines_of_context,\n",
      "  File \"/opt/homebrew/Caskroom/miniforge/base/lib/python3.9/site-packages/IPython/core/ultratb.py\", line 1063, in format_exception_as_a_whole\n",
      "    self.get_records(etb, number_of_lines_of_context, tb_offset) if etb else []\n",
      "  File \"/opt/homebrew/Caskroom/miniforge/base/lib/python3.9/site-packages/IPython/core/ultratb.py\", line 1115, in get_records\n",
      "    style = stack_data.style_with_executing_node(style, self._tb_highlight)\n",
      "  File \"/opt/homebrew/Caskroom/miniforge/base/lib/python3.9/site-packages/stack_data/core.py\", line 455, in style_with_executing_node\n",
      "    class NewStyle(style):\n",
      "  File \"/opt/homebrew/Caskroom/miniforge/base/lib/python3.9/site-packages/stack_data/core.py\", line 460, in NewStyle\n",
      "    **{\n",
      "  File \"/opt/homebrew/Caskroom/miniforge/base/lib/python3.9/site-packages/stack_data/core.py\", line 461, in <dictcomp>\n",
      "    k.ExecutingNode: v + \" \" + modifier\n",
      "  File \"/opt/homebrew/Caskroom/miniforge/base/lib/python3.9/site-packages/torch/utils/data/_utils/signal_handling.py\", line 67, in handler\n",
      "    _error_if_any_worker_fails()\n",
      "RuntimeError: DataLoader worker (pid 14763) is killed by signal: Interrupt: 2. \n",
      "Traceback (most recent call last):\n",
      "  File \"/opt/homebrew/Caskroom/miniforge/base/lib/python3.9/multiprocessing/process.py\", line 318, in _bootstrap\n",
      "    util._exit_function()\n",
      "  File \"/opt/homebrew/Caskroom/miniforge/base/lib/python3.9/multiprocessing/util.py\", line 360, in _exit_function\n",
      "    _run_finalizers()\n",
      "  File \"/opt/homebrew/Caskroom/miniforge/base/lib/python3.9/multiprocessing/util.py\", line 300, in _run_finalizers\n",
      "    finalizer()\n",
      "  File \"/opt/homebrew/Caskroom/miniforge/base/lib/python3.9/multiprocessing/util.py\", line 224, in __call__\n",
      "    res = self._callback(*self._args, **self._kwargs)\n",
      "  File \"/opt/homebrew/Caskroom/miniforge/base/lib/python3.9/multiprocessing/queues.py\", line 201, in _finalize_join\n",
      "    thread.join()\n",
      "  File \"/opt/homebrew/Caskroom/miniforge/base/lib/python3.9/threading.py\", line 1053, in join\n",
      "    self._wait_for_tstate_lock()\n",
      "  File \"/opt/homebrew/Caskroom/miniforge/base/lib/python3.9/threading.py\", line 1069, in _wait_for_tstate_lock\n",
      "    elif lock.acquire(block, timeout):\n",
      "KeyboardInterrupt\n"
     ]
    }
   ],
   "source": [
    "from utils.matadata_processing import late_metadata_fusion\n",
    "\n",
    "results = late_metadata_fusion(\n",
    "    metadata,\n",
    "    model,\n",
    "    test_loader,\n",
    "    labels,\n",
    "    device,\n",
    "    TARGET_FEATURE,\n",
    "    SELECTED_FEATURES\n",
    ")"
   ],
   "metadata": {
    "collapsed": false,
    "ExecuteTime": {
     "end_time": "2024-08-16T17:17:46.757355Z",
     "start_time": "2024-08-16T17:15:57.830583Z"
    }
   },
   "id": "d97d8ffe7f33cdac"
  },
  {
   "cell_type": "code",
   "outputs": [
    {
     "ename": "NameError",
     "evalue": "name 'merged_predictions_raw' is not defined",
     "output_type": "error",
     "traceback": [
      "\u001B[0;31m---------------------------------------------------------------------------\u001B[0m",
      "\u001B[0;31mNameError\u001B[0m                                 Traceback (most recent call last)",
      "Cell \u001B[0;32mIn[33], line 1\u001B[0m\n\u001B[0;32m----> 1\u001B[0m recall_3 \u001B[38;5;241m=\u001B[39m top_k_accuracy_score(test_df[TARGET_FEATURE], \u001B[43mmerged_predictions_raw\u001B[49m, k\u001B[38;5;241m=\u001B[39m\u001B[38;5;241m3\u001B[39m)\n",
      "\u001B[0;31mNameError\u001B[0m: name 'merged_predictions_raw' is not defined"
     ]
    }
   ],
   "source": [],
   "metadata": {
    "collapsed": false,
    "ExecuteTime": {
     "end_time": "2024-08-16T12:26:01.224496Z",
     "start_time": "2024-08-16T12:26:01.173991Z"
    }
   },
   "id": "739ac1f9d84d20db",
   "execution_count": 33
  },
  {
   "cell_type": "code",
   "outputs": [],
   "source": [],
   "metadata": {
    "collapsed": false
   },
   "id": "eda3e94f51079648"
  }
 ],
 "metadata": {
  "kernelspec": {
   "display_name": "Python 3 (ipykernel)",
   "language": "python",
   "name": "python3"
  },
  "language_info": {
   "codemirror_mode": {
    "name": "ipython",
    "version": 3
   },
   "file_extension": ".py",
   "mimetype": "text/x-python",
   "name": "python",
   "nbconvert_exporter": "python",
   "pygments_lexer": "ipython3",
   "version": "3.11.5"
  }
 },
 "nbformat": 4,
 "nbformat_minor": 5
}
